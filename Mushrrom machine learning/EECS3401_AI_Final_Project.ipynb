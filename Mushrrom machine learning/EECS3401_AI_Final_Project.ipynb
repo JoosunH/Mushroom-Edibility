{
  "cells": [
    {
      "cell_type": "markdown",
      "metadata": {
        "id": "x3dmEn_1u8Kz"
      },
      "source": [
        "# EECS3401 AI Final Project\n",
        "\n",
        "# Authors: Cheng Tian Cui, Peidong He, Joosun Hwang\n",
        "\n",
        "**Wagner,Dennis, Heider,D., and Hattab,Georges. (2023). Secondary Mushroom Dataset. UCI Machine Learning Repository. https://doi.org/10.24432/C5FP5Q.**\n",
        "\n",
        "**Inspired by the Mushroom Data Set of J. Schlimmer: url:https://archive.ics.uci.edu/ml/datasets/Mushroom.**"
      ]
    },
    {
      "cell_type": "markdown",
      "metadata": {
        "id": "1rRbK1hIu8K0"
      },
      "source": [
        "Import necessary libraries"
      ]
    },
    {
      "cell_type": "code",
      "execution_count": null,
      "metadata": {
        "id": "BjafFIXau8K0"
      },
      "outputs": [],
      "source": [
        "# Import libraries\n",
        "\n",
        "import sklearn\n",
        "import numpy as np\n",
        "import pandas as pd\n",
        "import matplotlib.pyplot as plt\n",
        "\n"
      ]
    },
    {
      "cell_type": "markdown",
      "metadata": {
        "id": "Lwdjvx4Gu8K1"
      },
      "source": [
        "# 1- Load the dataset"
      ]
    },
    {
      "cell_type": "code",
      "execution_count": null,
      "metadata": {
        "id": "OUGNEuK1u8K1",
        "colab": {
          "base_uri": "https://localhost:8080/"
        },
        "outputId": "6b09c939-a159-442c-b40c-89795fac01c6"
      },
      "outputs": [
        {
          "output_type": "stream",
          "name": "stdout",
          "text": [
            "Drive already mounted at /content/gdrive; to attempt to forcibly remount, call drive.mount(\"/content/gdrive\", force_remount=True).\n"
          ]
        }
      ],
      "source": [
        "from google.colab import drive\n",
        "\n",
        "\n",
        "# Mount Google Drive\n",
        "drive.mount('/content/gdrive')\n",
        "\n",
        "\n",
        "# Construct the file path in Colab\n",
        "# file_path = '/content/gdrive/My Drive/secondary_data.csv'\n",
        "file_path = '/content/gdrive/My Drive/AI-final-project/secondary_data.csv' # Peidong's path\n",
        "\n",
        "\n",
        "# Read the CSV file into a DataFrame\n",
        "df = pd.read_csv(file_path, sep=';')\n",
        "\n",
        "\n",
        "#putting all the attributes into X excpet 'class'\n",
        "X = df.drop('class', axis=1)\n",
        "\n",
        "#setting Y as a target variable\n",
        "y = df['class']\n",
        "\n",
        "\n",
        "\n",
        "\n",
        "\n"
      ]
    },
    {
      "cell_type": "markdown",
      "metadata": {
        "id": "LV3fULcFu8K1"
      },
      "source": [
        "# 2. Take a quick look at the data structure"
      ]
    },
    {
      "cell_type": "code",
      "source": [
        "#checking for any missing value\n",
        "\n",
        "missing_values = X.isnull().sum()\n",
        "print(missing_values)"
      ],
      "metadata": {
        "colab": {
          "base_uri": "https://localhost:8080/"
        },
        "id": "3MXcKH_zwUeq",
        "outputId": "7d4c7dd1-739e-4fa4-e5e8-f07204a20124"
      },
      "execution_count": null,
      "outputs": [
        {
          "output_type": "stream",
          "name": "stdout",
          "text": [
            "cap-diameter                0\n",
            "cap-shape                   0\n",
            "cap-surface             14120\n",
            "cap-color                   0\n",
            "does-bruise-or-bleed        0\n",
            "gill-attachment          9884\n",
            "gill-spacing            25063\n",
            "gill-color                  0\n",
            "stem-height                 0\n",
            "stem-width                  0\n",
            "stem-root               51538\n",
            "stem-surface            38124\n",
            "stem-color                  0\n",
            "veil-type               57892\n",
            "veil-color              53656\n",
            "has-ring                    0\n",
            "ring-type                2471\n",
            "spore-print-color       54715\n",
            "habitat                     0\n",
            "season                      0\n",
            "dtype: int64\n"
          ]
        }
      ]
    },
    {
      "cell_type": "code",
      "source": [
        "#checking if the attributes has data more than 50% of total attributes, if its less delete the attributes.\n",
        "# Calculate the threshold (50% of total rows)\n",
        "threshold = len(df) * 0.5\n",
        "\n",
        "# Drop columns with more than 50% missing values\n",
        "columns_to_drop = []\n",
        "for column in df.columns:\n",
        "  missing_values = df[column].isnull().sum()\n",
        "  if missing_values > threshold:\n",
        "    columns_to_drop.append(column)\n",
        "\n",
        "print(columns_to_drop) #gill-spacing is not removed\n",
        "X.drop(columns=columns_to_drop, inplace=True)\n",
        "\n",
        "\n"
      ],
      "metadata": {
        "id": "NdG8c5XdzLP7",
        "colab": {
          "base_uri": "https://localhost:8080/"
        },
        "outputId": "38a50686-4b4e-448c-d18a-5ba89d0ad087"
      },
      "execution_count": null,
      "outputs": [
        {
          "output_type": "stream",
          "name": "stdout",
          "text": [
            "['stem-root', 'stem-surface', 'veil-type', 'veil-color', 'spore-print-color']\n"
          ]
        }
      ]
    },
    {
      "cell_type": "code",
      "source": [
        "\n",
        "#checking the updated data frame\n",
        "X.info()"
      ],
      "metadata": {
        "colab": {
          "base_uri": "https://localhost:8080/"
        },
        "id": "dV-aC4q7fA8p",
        "outputId": "64839996-c585-47a7-fa62-65c1c9afe86a"
      },
      "execution_count": null,
      "outputs": [
        {
          "output_type": "stream",
          "name": "stdout",
          "text": [
            "<class 'pandas.core.frame.DataFrame'>\n",
            "RangeIndex: 61069 entries, 0 to 61068\n",
            "Data columns (total 15 columns):\n",
            " #   Column                Non-Null Count  Dtype  \n",
            "---  ------                --------------  -----  \n",
            " 0   cap-diameter          61069 non-null  float64\n",
            " 1   cap-shape             61069 non-null  object \n",
            " 2   cap-surface           46949 non-null  object \n",
            " 3   cap-color             61069 non-null  object \n",
            " 4   does-bruise-or-bleed  61069 non-null  object \n",
            " 5   gill-attachment       51185 non-null  object \n",
            " 6   gill-spacing          36006 non-null  object \n",
            " 7   gill-color            61069 non-null  object \n",
            " 8   stem-height           61069 non-null  float64\n",
            " 9   stem-width            61069 non-null  float64\n",
            " 10  stem-color            61069 non-null  object \n",
            " 11  has-ring              61069 non-null  object \n",
            " 12  ring-type             58598 non-null  object \n",
            " 13  habitat               61069 non-null  object \n",
            " 14  season                61069 non-null  object \n",
            "dtypes: float64(3), object(12)\n",
            "memory usage: 7.0+ MB\n"
          ]
        }
      ]
    },
    {
      "cell_type": "code",
      "source": [
        "# If columns have more than half of the rows as null then the entire column can be dropped\n",
        "missing_values_threshold = len(X) * 0.5\n",
        "print(missing_values_threshold) # half of the rows\n",
        "\n",
        "# Get the columns with missing values exceeding the threshold\n",
        "columns_to_remove = X.columns[X.isnull().sum() > missing_values_threshold]\n",
        "# print(columns_to_remove)\n",
        "\n",
        "# Remove the columns\n",
        "X.drop(columns=columns_to_remove, inplace=True)\n",
        "\n",
        "# X.dropna(subset=columns_with_missing_values, inplace=True)"
      ],
      "metadata": {
        "colab": {
          "base_uri": "https://localhost:8080/"
        },
        "id": "7-C1B-bpfg1V",
        "outputId": "0af3ebdd-2500-4923-d813-ecceaded7056"
      },
      "execution_count": null,
      "outputs": [
        {
          "output_type": "stream",
          "name": "stdout",
          "text": [
            "30534.5\n"
          ]
        }
      ]
    },
    {
      "cell_type": "markdown",
      "metadata": {
        "id": "46EbJtcsu8K1"
      },
      "source": [
        "Use .head() to see first 5 rows of features"
      ]
    },
    {
      "cell_type": "code",
      "execution_count": null,
      "metadata": {
        "id": "elYsxXzOu8K1",
        "colab": {
          "base_uri": "https://localhost:8080/",
          "height": 206
        },
        "outputId": "701d7aeb-9231-4adb-f36b-0b08b501c8c9"
      },
      "outputs": [
        {
          "output_type": "execute_result",
          "data": {
            "text/plain": [
              "   cap-diameter cap-shape cap-surface cap-color does-bruise-or-bleed  \\\n",
              "0         15.26         x           g         o                    f   \n",
              "1         16.60         x           g         o                    f   \n",
              "2         14.07         x           g         o                    f   \n",
              "3         14.17         f           h         e                    f   \n",
              "4         14.64         x           h         o                    f   \n",
              "\n",
              "  gill-attachment gill-spacing gill-color  stem-height  stem-width stem-color  \\\n",
              "0               e          NaN          w        16.95       17.09          w   \n",
              "1               e          NaN          w        17.99       18.19          w   \n",
              "2               e          NaN          w        17.80       17.74          w   \n",
              "3               e          NaN          w        15.77       15.98          w   \n",
              "4               e          NaN          w        16.53       17.20          w   \n",
              "\n",
              "  has-ring ring-type habitat season  \n",
              "0        t         g       d      w  \n",
              "1        t         g       d      u  \n",
              "2        t         g       d      w  \n",
              "3        t         p       d      w  \n",
              "4        t         p       d      w  "
            ],
            "text/html": [
              "\n",
              "  <div id=\"df-adca9cb0-a455-477a-9c81-d9392b2e9a9f\" class=\"colab-df-container\">\n",
              "    <div>\n",
              "<style scoped>\n",
              "    .dataframe tbody tr th:only-of-type {\n",
              "        vertical-align: middle;\n",
              "    }\n",
              "\n",
              "    .dataframe tbody tr th {\n",
              "        vertical-align: top;\n",
              "    }\n",
              "\n",
              "    .dataframe thead th {\n",
              "        text-align: right;\n",
              "    }\n",
              "</style>\n",
              "<table border=\"1\" class=\"dataframe\">\n",
              "  <thead>\n",
              "    <tr style=\"text-align: right;\">\n",
              "      <th></th>\n",
              "      <th>cap-diameter</th>\n",
              "      <th>cap-shape</th>\n",
              "      <th>cap-surface</th>\n",
              "      <th>cap-color</th>\n",
              "      <th>does-bruise-or-bleed</th>\n",
              "      <th>gill-attachment</th>\n",
              "      <th>gill-spacing</th>\n",
              "      <th>gill-color</th>\n",
              "      <th>stem-height</th>\n",
              "      <th>stem-width</th>\n",
              "      <th>stem-color</th>\n",
              "      <th>has-ring</th>\n",
              "      <th>ring-type</th>\n",
              "      <th>habitat</th>\n",
              "      <th>season</th>\n",
              "    </tr>\n",
              "  </thead>\n",
              "  <tbody>\n",
              "    <tr>\n",
              "      <th>0</th>\n",
              "      <td>15.26</td>\n",
              "      <td>x</td>\n",
              "      <td>g</td>\n",
              "      <td>o</td>\n",
              "      <td>f</td>\n",
              "      <td>e</td>\n",
              "      <td>NaN</td>\n",
              "      <td>w</td>\n",
              "      <td>16.95</td>\n",
              "      <td>17.09</td>\n",
              "      <td>w</td>\n",
              "      <td>t</td>\n",
              "      <td>g</td>\n",
              "      <td>d</td>\n",
              "      <td>w</td>\n",
              "    </tr>\n",
              "    <tr>\n",
              "      <th>1</th>\n",
              "      <td>16.60</td>\n",
              "      <td>x</td>\n",
              "      <td>g</td>\n",
              "      <td>o</td>\n",
              "      <td>f</td>\n",
              "      <td>e</td>\n",
              "      <td>NaN</td>\n",
              "      <td>w</td>\n",
              "      <td>17.99</td>\n",
              "      <td>18.19</td>\n",
              "      <td>w</td>\n",
              "      <td>t</td>\n",
              "      <td>g</td>\n",
              "      <td>d</td>\n",
              "      <td>u</td>\n",
              "    </tr>\n",
              "    <tr>\n",
              "      <th>2</th>\n",
              "      <td>14.07</td>\n",
              "      <td>x</td>\n",
              "      <td>g</td>\n",
              "      <td>o</td>\n",
              "      <td>f</td>\n",
              "      <td>e</td>\n",
              "      <td>NaN</td>\n",
              "      <td>w</td>\n",
              "      <td>17.80</td>\n",
              "      <td>17.74</td>\n",
              "      <td>w</td>\n",
              "      <td>t</td>\n",
              "      <td>g</td>\n",
              "      <td>d</td>\n",
              "      <td>w</td>\n",
              "    </tr>\n",
              "    <tr>\n",
              "      <th>3</th>\n",
              "      <td>14.17</td>\n",
              "      <td>f</td>\n",
              "      <td>h</td>\n",
              "      <td>e</td>\n",
              "      <td>f</td>\n",
              "      <td>e</td>\n",
              "      <td>NaN</td>\n",
              "      <td>w</td>\n",
              "      <td>15.77</td>\n",
              "      <td>15.98</td>\n",
              "      <td>w</td>\n",
              "      <td>t</td>\n",
              "      <td>p</td>\n",
              "      <td>d</td>\n",
              "      <td>w</td>\n",
              "    </tr>\n",
              "    <tr>\n",
              "      <th>4</th>\n",
              "      <td>14.64</td>\n",
              "      <td>x</td>\n",
              "      <td>h</td>\n",
              "      <td>o</td>\n",
              "      <td>f</td>\n",
              "      <td>e</td>\n",
              "      <td>NaN</td>\n",
              "      <td>w</td>\n",
              "      <td>16.53</td>\n",
              "      <td>17.20</td>\n",
              "      <td>w</td>\n",
              "      <td>t</td>\n",
              "      <td>p</td>\n",
              "      <td>d</td>\n",
              "      <td>w</td>\n",
              "    </tr>\n",
              "  </tbody>\n",
              "</table>\n",
              "</div>\n",
              "    <div class=\"colab-df-buttons\">\n",
              "\n",
              "  <div class=\"colab-df-container\">\n",
              "    <button class=\"colab-df-convert\" onclick=\"convertToInteractive('df-adca9cb0-a455-477a-9c81-d9392b2e9a9f')\"\n",
              "            title=\"Convert this dataframe to an interactive table.\"\n",
              "            style=\"display:none;\">\n",
              "\n",
              "  <svg xmlns=\"http://www.w3.org/2000/svg\" height=\"24px\" viewBox=\"0 -960 960 960\">\n",
              "    <path d=\"M120-120v-720h720v720H120Zm60-500h600v-160H180v160Zm220 220h160v-160H400v160Zm0 220h160v-160H400v160ZM180-400h160v-160H180v160Zm440 0h160v-160H620v160ZM180-180h160v-160H180v160Zm440 0h160v-160H620v160Z\"/>\n",
              "  </svg>\n",
              "    </button>\n",
              "\n",
              "  <style>\n",
              "    .colab-df-container {\n",
              "      display:flex;\n",
              "      gap: 12px;\n",
              "    }\n",
              "\n",
              "    .colab-df-convert {\n",
              "      background-color: #E8F0FE;\n",
              "      border: none;\n",
              "      border-radius: 50%;\n",
              "      cursor: pointer;\n",
              "      display: none;\n",
              "      fill: #1967D2;\n",
              "      height: 32px;\n",
              "      padding: 0 0 0 0;\n",
              "      width: 32px;\n",
              "    }\n",
              "\n",
              "    .colab-df-convert:hover {\n",
              "      background-color: #E2EBFA;\n",
              "      box-shadow: 0px 1px 2px rgba(60, 64, 67, 0.3), 0px 1px 3px 1px rgba(60, 64, 67, 0.15);\n",
              "      fill: #174EA6;\n",
              "    }\n",
              "\n",
              "    .colab-df-buttons div {\n",
              "      margin-bottom: 4px;\n",
              "    }\n",
              "\n",
              "    [theme=dark] .colab-df-convert {\n",
              "      background-color: #3B4455;\n",
              "      fill: #D2E3FC;\n",
              "    }\n",
              "\n",
              "    [theme=dark] .colab-df-convert:hover {\n",
              "      background-color: #434B5C;\n",
              "      box-shadow: 0px 1px 3px 1px rgba(0, 0, 0, 0.15);\n",
              "      filter: drop-shadow(0px 1px 2px rgba(0, 0, 0, 0.3));\n",
              "      fill: #FFFFFF;\n",
              "    }\n",
              "  </style>\n",
              "\n",
              "    <script>\n",
              "      const buttonEl =\n",
              "        document.querySelector('#df-adca9cb0-a455-477a-9c81-d9392b2e9a9f button.colab-df-convert');\n",
              "      buttonEl.style.display =\n",
              "        google.colab.kernel.accessAllowed ? 'block' : 'none';\n",
              "\n",
              "      async function convertToInteractive(key) {\n",
              "        const element = document.querySelector('#df-adca9cb0-a455-477a-9c81-d9392b2e9a9f');\n",
              "        const dataTable =\n",
              "          await google.colab.kernel.invokeFunction('convertToInteractive',\n",
              "                                                    [key], {});\n",
              "        if (!dataTable) return;\n",
              "\n",
              "        const docLinkHtml = 'Like what you see? Visit the ' +\n",
              "          '<a target=\"_blank\" href=https://colab.research.google.com/notebooks/data_table.ipynb>data table notebook</a>'\n",
              "          + ' to learn more about interactive tables.';\n",
              "        element.innerHTML = '';\n",
              "        dataTable['output_type'] = 'display_data';\n",
              "        await google.colab.output.renderOutput(dataTable, element);\n",
              "        const docLink = document.createElement('div');\n",
              "        docLink.innerHTML = docLinkHtml;\n",
              "        element.appendChild(docLink);\n",
              "      }\n",
              "    </script>\n",
              "  </div>\n",
              "\n",
              "\n",
              "<div id=\"df-95c0d364-87d4-4777-aa15-965f2a027c2e\">\n",
              "  <button class=\"colab-df-quickchart\" onclick=\"quickchart('df-95c0d364-87d4-4777-aa15-965f2a027c2e')\"\n",
              "            title=\"Suggest charts\"\n",
              "            style=\"display:none;\">\n",
              "\n",
              "<svg xmlns=\"http://www.w3.org/2000/svg\" height=\"24px\"viewBox=\"0 0 24 24\"\n",
              "     width=\"24px\">\n",
              "    <g>\n",
              "        <path d=\"M19 3H5c-1.1 0-2 .9-2 2v14c0 1.1.9 2 2 2h14c1.1 0 2-.9 2-2V5c0-1.1-.9-2-2-2zM9 17H7v-7h2v7zm4 0h-2V7h2v10zm4 0h-2v-4h2v4z\"/>\n",
              "    </g>\n",
              "</svg>\n",
              "  </button>\n",
              "\n",
              "<style>\n",
              "  .colab-df-quickchart {\n",
              "      --bg-color: #E8F0FE;\n",
              "      --fill-color: #1967D2;\n",
              "      --hover-bg-color: #E2EBFA;\n",
              "      --hover-fill-color: #174EA6;\n",
              "      --disabled-fill-color: #AAA;\n",
              "      --disabled-bg-color: #DDD;\n",
              "  }\n",
              "\n",
              "  [theme=dark] .colab-df-quickchart {\n",
              "      --bg-color: #3B4455;\n",
              "      --fill-color: #D2E3FC;\n",
              "      --hover-bg-color: #434B5C;\n",
              "      --hover-fill-color: #FFFFFF;\n",
              "      --disabled-bg-color: #3B4455;\n",
              "      --disabled-fill-color: #666;\n",
              "  }\n",
              "\n",
              "  .colab-df-quickchart {\n",
              "    background-color: var(--bg-color);\n",
              "    border: none;\n",
              "    border-radius: 50%;\n",
              "    cursor: pointer;\n",
              "    display: none;\n",
              "    fill: var(--fill-color);\n",
              "    height: 32px;\n",
              "    padding: 0;\n",
              "    width: 32px;\n",
              "  }\n",
              "\n",
              "  .colab-df-quickchart:hover {\n",
              "    background-color: var(--hover-bg-color);\n",
              "    box-shadow: 0 1px 2px rgba(60, 64, 67, 0.3), 0 1px 3px 1px rgba(60, 64, 67, 0.15);\n",
              "    fill: var(--button-hover-fill-color);\n",
              "  }\n",
              "\n",
              "  .colab-df-quickchart-complete:disabled,\n",
              "  .colab-df-quickchart-complete:disabled:hover {\n",
              "    background-color: var(--disabled-bg-color);\n",
              "    fill: var(--disabled-fill-color);\n",
              "    box-shadow: none;\n",
              "  }\n",
              "\n",
              "  .colab-df-spinner {\n",
              "    border: 2px solid var(--fill-color);\n",
              "    border-color: transparent;\n",
              "    border-bottom-color: var(--fill-color);\n",
              "    animation:\n",
              "      spin 1s steps(1) infinite;\n",
              "  }\n",
              "\n",
              "  @keyframes spin {\n",
              "    0% {\n",
              "      border-color: transparent;\n",
              "      border-bottom-color: var(--fill-color);\n",
              "      border-left-color: var(--fill-color);\n",
              "    }\n",
              "    20% {\n",
              "      border-color: transparent;\n",
              "      border-left-color: var(--fill-color);\n",
              "      border-top-color: var(--fill-color);\n",
              "    }\n",
              "    30% {\n",
              "      border-color: transparent;\n",
              "      border-left-color: var(--fill-color);\n",
              "      border-top-color: var(--fill-color);\n",
              "      border-right-color: var(--fill-color);\n",
              "    }\n",
              "    40% {\n",
              "      border-color: transparent;\n",
              "      border-right-color: var(--fill-color);\n",
              "      border-top-color: var(--fill-color);\n",
              "    }\n",
              "    60% {\n",
              "      border-color: transparent;\n",
              "      border-right-color: var(--fill-color);\n",
              "    }\n",
              "    80% {\n",
              "      border-color: transparent;\n",
              "      border-right-color: var(--fill-color);\n",
              "      border-bottom-color: var(--fill-color);\n",
              "    }\n",
              "    90% {\n",
              "      border-color: transparent;\n",
              "      border-bottom-color: var(--fill-color);\n",
              "    }\n",
              "  }\n",
              "</style>\n",
              "\n",
              "  <script>\n",
              "    async function quickchart(key) {\n",
              "      const quickchartButtonEl =\n",
              "        document.querySelector('#' + key + ' button');\n",
              "      quickchartButtonEl.disabled = true;  // To prevent multiple clicks.\n",
              "      quickchartButtonEl.classList.add('colab-df-spinner');\n",
              "      try {\n",
              "        const charts = await google.colab.kernel.invokeFunction(\n",
              "            'suggestCharts', [key], {});\n",
              "      } catch (error) {\n",
              "        console.error('Error during call to suggestCharts:', error);\n",
              "      }\n",
              "      quickchartButtonEl.classList.remove('colab-df-spinner');\n",
              "      quickchartButtonEl.classList.add('colab-df-quickchart-complete');\n",
              "    }\n",
              "    (() => {\n",
              "      let quickchartButtonEl =\n",
              "        document.querySelector('#df-95c0d364-87d4-4777-aa15-965f2a027c2e button');\n",
              "      quickchartButtonEl.style.display =\n",
              "        google.colab.kernel.accessAllowed ? 'block' : 'none';\n",
              "    })();\n",
              "  </script>\n",
              "</div>\n",
              "    </div>\n",
              "  </div>\n"
            ]
          },
          "metadata": {},
          "execution_count": 10
        }
      ],
      "source": [
        "# First 5 rows of features\n",
        "X.head()"
      ]
    },
    {
      "cell_type": "markdown",
      "metadata": {
        "id": "oTQsRQ3au8K1"
      },
      "source": [
        "Use .info() method to see a concise summary of a DataFrame."
      ]
    },
    {
      "cell_type": "code",
      "execution_count": null,
      "metadata": {
        "tags": [],
        "id": "0bttT7BLu8K2",
        "colab": {
          "base_uri": "https://localhost:8080/"
        },
        "outputId": "172bd666-b2dc-417a-96b5-7841310240dc"
      },
      "outputs": [
        {
          "output_type": "stream",
          "name": "stdout",
          "text": [
            "<class 'pandas.core.frame.DataFrame'>\n",
            "RangeIndex: 61069 entries, 0 to 61068\n",
            "Data columns (total 15 columns):\n",
            " #   Column                Non-Null Count  Dtype  \n",
            "---  ------                --------------  -----  \n",
            " 0   cap-diameter          61069 non-null  float64\n",
            " 1   cap-shape             61069 non-null  object \n",
            " 2   cap-surface           46949 non-null  object \n",
            " 3   cap-color             61069 non-null  object \n",
            " 4   does-bruise-or-bleed  61069 non-null  object \n",
            " 5   gill-attachment       51185 non-null  object \n",
            " 6   gill-spacing          36006 non-null  object \n",
            " 7   gill-color            61069 non-null  object \n",
            " 8   stem-height           61069 non-null  float64\n",
            " 9   stem-width            61069 non-null  float64\n",
            " 10  stem-color            61069 non-null  object \n",
            " 11  has-ring              61069 non-null  object \n",
            " 12  ring-type             58598 non-null  object \n",
            " 13  habitat               61069 non-null  object \n",
            " 14  season                61069 non-null  object \n",
            "dtypes: float64(3), object(12)\n",
            "memory usage: 7.0+ MB\n"
          ]
        }
      ],
      "source": [
        "X.info()"
      ]
    },
    {
      "cell_type": "markdown",
      "metadata": {
        "id": "MTcuyrrau8K2"
      },
      "source": [
        "Use .describe() method to see a summary of the numerical attributes."
      ]
    },
    {
      "cell_type": "code",
      "execution_count": null,
      "metadata": {
        "id": "RLLgPDzGu8K2",
        "colab": {
          "base_uri": "https://localhost:8080/",
          "height": 300
        },
        "outputId": "8e86e9da-ae04-42c0-e8ae-3c9ea7b8b5e6"
      },
      "outputs": [
        {
          "output_type": "execute_result",
          "data": {
            "text/plain": [
              "       cap-diameter   stem-height    stem-width\n",
              "count  61069.000000  61069.000000  61069.000000\n",
              "mean       6.733854      6.581538     12.149410\n",
              "std        5.264845      3.370017     10.035955\n",
              "min        0.380000      0.000000      0.000000\n",
              "25%        3.480000      4.640000      5.210000\n",
              "50%        5.860000      5.950000     10.190000\n",
              "75%        8.540000      7.740000     16.570000\n",
              "max       62.340000     33.920000    103.910000"
            ],
            "text/html": [
              "\n",
              "  <div id=\"df-a26960d2-e322-4ab7-a3be-7a37eaa27d0e\" class=\"colab-df-container\">\n",
              "    <div>\n",
              "<style scoped>\n",
              "    .dataframe tbody tr th:only-of-type {\n",
              "        vertical-align: middle;\n",
              "    }\n",
              "\n",
              "    .dataframe tbody tr th {\n",
              "        vertical-align: top;\n",
              "    }\n",
              "\n",
              "    .dataframe thead th {\n",
              "        text-align: right;\n",
              "    }\n",
              "</style>\n",
              "<table border=\"1\" class=\"dataframe\">\n",
              "  <thead>\n",
              "    <tr style=\"text-align: right;\">\n",
              "      <th></th>\n",
              "      <th>cap-diameter</th>\n",
              "      <th>stem-height</th>\n",
              "      <th>stem-width</th>\n",
              "    </tr>\n",
              "  </thead>\n",
              "  <tbody>\n",
              "    <tr>\n",
              "      <th>count</th>\n",
              "      <td>61069.000000</td>\n",
              "      <td>61069.000000</td>\n",
              "      <td>61069.000000</td>\n",
              "    </tr>\n",
              "    <tr>\n",
              "      <th>mean</th>\n",
              "      <td>6.733854</td>\n",
              "      <td>6.581538</td>\n",
              "      <td>12.149410</td>\n",
              "    </tr>\n",
              "    <tr>\n",
              "      <th>std</th>\n",
              "      <td>5.264845</td>\n",
              "      <td>3.370017</td>\n",
              "      <td>10.035955</td>\n",
              "    </tr>\n",
              "    <tr>\n",
              "      <th>min</th>\n",
              "      <td>0.380000</td>\n",
              "      <td>0.000000</td>\n",
              "      <td>0.000000</td>\n",
              "    </tr>\n",
              "    <tr>\n",
              "      <th>25%</th>\n",
              "      <td>3.480000</td>\n",
              "      <td>4.640000</td>\n",
              "      <td>5.210000</td>\n",
              "    </tr>\n",
              "    <tr>\n",
              "      <th>50%</th>\n",
              "      <td>5.860000</td>\n",
              "      <td>5.950000</td>\n",
              "      <td>10.190000</td>\n",
              "    </tr>\n",
              "    <tr>\n",
              "      <th>75%</th>\n",
              "      <td>8.540000</td>\n",
              "      <td>7.740000</td>\n",
              "      <td>16.570000</td>\n",
              "    </tr>\n",
              "    <tr>\n",
              "      <th>max</th>\n",
              "      <td>62.340000</td>\n",
              "      <td>33.920000</td>\n",
              "      <td>103.910000</td>\n",
              "    </tr>\n",
              "  </tbody>\n",
              "</table>\n",
              "</div>\n",
              "    <div class=\"colab-df-buttons\">\n",
              "\n",
              "  <div class=\"colab-df-container\">\n",
              "    <button class=\"colab-df-convert\" onclick=\"convertToInteractive('df-a26960d2-e322-4ab7-a3be-7a37eaa27d0e')\"\n",
              "            title=\"Convert this dataframe to an interactive table.\"\n",
              "            style=\"display:none;\">\n",
              "\n",
              "  <svg xmlns=\"http://www.w3.org/2000/svg\" height=\"24px\" viewBox=\"0 -960 960 960\">\n",
              "    <path d=\"M120-120v-720h720v720H120Zm60-500h600v-160H180v160Zm220 220h160v-160H400v160Zm0 220h160v-160H400v160ZM180-400h160v-160H180v160Zm440 0h160v-160H620v160ZM180-180h160v-160H180v160Zm440 0h160v-160H620v160Z\"/>\n",
              "  </svg>\n",
              "    </button>\n",
              "\n",
              "  <style>\n",
              "    .colab-df-container {\n",
              "      display:flex;\n",
              "      gap: 12px;\n",
              "    }\n",
              "\n",
              "    .colab-df-convert {\n",
              "      background-color: #E8F0FE;\n",
              "      border: none;\n",
              "      border-radius: 50%;\n",
              "      cursor: pointer;\n",
              "      display: none;\n",
              "      fill: #1967D2;\n",
              "      height: 32px;\n",
              "      padding: 0 0 0 0;\n",
              "      width: 32px;\n",
              "    }\n",
              "\n",
              "    .colab-df-convert:hover {\n",
              "      background-color: #E2EBFA;\n",
              "      box-shadow: 0px 1px 2px rgba(60, 64, 67, 0.3), 0px 1px 3px 1px rgba(60, 64, 67, 0.15);\n",
              "      fill: #174EA6;\n",
              "    }\n",
              "\n",
              "    .colab-df-buttons div {\n",
              "      margin-bottom: 4px;\n",
              "    }\n",
              "\n",
              "    [theme=dark] .colab-df-convert {\n",
              "      background-color: #3B4455;\n",
              "      fill: #D2E3FC;\n",
              "    }\n",
              "\n",
              "    [theme=dark] .colab-df-convert:hover {\n",
              "      background-color: #434B5C;\n",
              "      box-shadow: 0px 1px 3px 1px rgba(0, 0, 0, 0.15);\n",
              "      filter: drop-shadow(0px 1px 2px rgba(0, 0, 0, 0.3));\n",
              "      fill: #FFFFFF;\n",
              "    }\n",
              "  </style>\n",
              "\n",
              "    <script>\n",
              "      const buttonEl =\n",
              "        document.querySelector('#df-a26960d2-e322-4ab7-a3be-7a37eaa27d0e button.colab-df-convert');\n",
              "      buttonEl.style.display =\n",
              "        google.colab.kernel.accessAllowed ? 'block' : 'none';\n",
              "\n",
              "      async function convertToInteractive(key) {\n",
              "        const element = document.querySelector('#df-a26960d2-e322-4ab7-a3be-7a37eaa27d0e');\n",
              "        const dataTable =\n",
              "          await google.colab.kernel.invokeFunction('convertToInteractive',\n",
              "                                                    [key], {});\n",
              "        if (!dataTable) return;\n",
              "\n",
              "        const docLinkHtml = 'Like what you see? Visit the ' +\n",
              "          '<a target=\"_blank\" href=https://colab.research.google.com/notebooks/data_table.ipynb>data table notebook</a>'\n",
              "          + ' to learn more about interactive tables.';\n",
              "        element.innerHTML = '';\n",
              "        dataTable['output_type'] = 'display_data';\n",
              "        await google.colab.output.renderOutput(dataTable, element);\n",
              "        const docLink = document.createElement('div');\n",
              "        docLink.innerHTML = docLinkHtml;\n",
              "        element.appendChild(docLink);\n",
              "      }\n",
              "    </script>\n",
              "  </div>\n",
              "\n",
              "\n",
              "<div id=\"df-1c5f55d4-c00d-4050-8284-2b4e2b93a6bf\">\n",
              "  <button class=\"colab-df-quickchart\" onclick=\"quickchart('df-1c5f55d4-c00d-4050-8284-2b4e2b93a6bf')\"\n",
              "            title=\"Suggest charts\"\n",
              "            style=\"display:none;\">\n",
              "\n",
              "<svg xmlns=\"http://www.w3.org/2000/svg\" height=\"24px\"viewBox=\"0 0 24 24\"\n",
              "     width=\"24px\">\n",
              "    <g>\n",
              "        <path d=\"M19 3H5c-1.1 0-2 .9-2 2v14c0 1.1.9 2 2 2h14c1.1 0 2-.9 2-2V5c0-1.1-.9-2-2-2zM9 17H7v-7h2v7zm4 0h-2V7h2v10zm4 0h-2v-4h2v4z\"/>\n",
              "    </g>\n",
              "</svg>\n",
              "  </button>\n",
              "\n",
              "<style>\n",
              "  .colab-df-quickchart {\n",
              "      --bg-color: #E8F0FE;\n",
              "      --fill-color: #1967D2;\n",
              "      --hover-bg-color: #E2EBFA;\n",
              "      --hover-fill-color: #174EA6;\n",
              "      --disabled-fill-color: #AAA;\n",
              "      --disabled-bg-color: #DDD;\n",
              "  }\n",
              "\n",
              "  [theme=dark] .colab-df-quickchart {\n",
              "      --bg-color: #3B4455;\n",
              "      --fill-color: #D2E3FC;\n",
              "      --hover-bg-color: #434B5C;\n",
              "      --hover-fill-color: #FFFFFF;\n",
              "      --disabled-bg-color: #3B4455;\n",
              "      --disabled-fill-color: #666;\n",
              "  }\n",
              "\n",
              "  .colab-df-quickchart {\n",
              "    background-color: var(--bg-color);\n",
              "    border: none;\n",
              "    border-radius: 50%;\n",
              "    cursor: pointer;\n",
              "    display: none;\n",
              "    fill: var(--fill-color);\n",
              "    height: 32px;\n",
              "    padding: 0;\n",
              "    width: 32px;\n",
              "  }\n",
              "\n",
              "  .colab-df-quickchart:hover {\n",
              "    background-color: var(--hover-bg-color);\n",
              "    box-shadow: 0 1px 2px rgba(60, 64, 67, 0.3), 0 1px 3px 1px rgba(60, 64, 67, 0.15);\n",
              "    fill: var(--button-hover-fill-color);\n",
              "  }\n",
              "\n",
              "  .colab-df-quickchart-complete:disabled,\n",
              "  .colab-df-quickchart-complete:disabled:hover {\n",
              "    background-color: var(--disabled-bg-color);\n",
              "    fill: var(--disabled-fill-color);\n",
              "    box-shadow: none;\n",
              "  }\n",
              "\n",
              "  .colab-df-spinner {\n",
              "    border: 2px solid var(--fill-color);\n",
              "    border-color: transparent;\n",
              "    border-bottom-color: var(--fill-color);\n",
              "    animation:\n",
              "      spin 1s steps(1) infinite;\n",
              "  }\n",
              "\n",
              "  @keyframes spin {\n",
              "    0% {\n",
              "      border-color: transparent;\n",
              "      border-bottom-color: var(--fill-color);\n",
              "      border-left-color: var(--fill-color);\n",
              "    }\n",
              "    20% {\n",
              "      border-color: transparent;\n",
              "      border-left-color: var(--fill-color);\n",
              "      border-top-color: var(--fill-color);\n",
              "    }\n",
              "    30% {\n",
              "      border-color: transparent;\n",
              "      border-left-color: var(--fill-color);\n",
              "      border-top-color: var(--fill-color);\n",
              "      border-right-color: var(--fill-color);\n",
              "    }\n",
              "    40% {\n",
              "      border-color: transparent;\n",
              "      border-right-color: var(--fill-color);\n",
              "      border-top-color: var(--fill-color);\n",
              "    }\n",
              "    60% {\n",
              "      border-color: transparent;\n",
              "      border-right-color: var(--fill-color);\n",
              "    }\n",
              "    80% {\n",
              "      border-color: transparent;\n",
              "      border-right-color: var(--fill-color);\n",
              "      border-bottom-color: var(--fill-color);\n",
              "    }\n",
              "    90% {\n",
              "      border-color: transparent;\n",
              "      border-bottom-color: var(--fill-color);\n",
              "    }\n",
              "  }\n",
              "</style>\n",
              "\n",
              "  <script>\n",
              "    async function quickchart(key) {\n",
              "      const quickchartButtonEl =\n",
              "        document.querySelector('#' + key + ' button');\n",
              "      quickchartButtonEl.disabled = true;  // To prevent multiple clicks.\n",
              "      quickchartButtonEl.classList.add('colab-df-spinner');\n",
              "      try {\n",
              "        const charts = await google.colab.kernel.invokeFunction(\n",
              "            'suggestCharts', [key], {});\n",
              "      } catch (error) {\n",
              "        console.error('Error during call to suggestCharts:', error);\n",
              "      }\n",
              "      quickchartButtonEl.classList.remove('colab-df-spinner');\n",
              "      quickchartButtonEl.classList.add('colab-df-quickchart-complete');\n",
              "    }\n",
              "    (() => {\n",
              "      let quickchartButtonEl =\n",
              "        document.querySelector('#df-1c5f55d4-c00d-4050-8284-2b4e2b93a6bf button');\n",
              "      quickchartButtonEl.style.display =\n",
              "        google.colab.kernel.accessAllowed ? 'block' : 'none';\n",
              "    })();\n",
              "  </script>\n",
              "</div>\n",
              "    </div>\n",
              "  </div>\n"
            ]
          },
          "metadata": {},
          "execution_count": 12
        }
      ],
      "source": [
        "X.describe()"
      ]
    },
    {
      "cell_type": "code",
      "execution_count": null,
      "metadata": {
        "id": "kg_-LUWgu8K2",
        "colab": {
          "base_uri": "https://localhost:8080/"
        },
        "outputId": "90e8a8dc-a1f5-4256-84b4-b1e043461335"
      },
      "outputs": [
        {
          "output_type": "execute_result",
          "data": {
            "text/plain": [
              "(61069, 15)"
            ]
          },
          "metadata": {},
          "execution_count": 13
        }
      ],
      "source": [
        "X.shape"
      ]
    },
    {
      "cell_type": "markdown",
      "metadata": {
        "id": "VwHHvxUMu8K2"
      },
      "source": [
        "## 2.1 Three common plots used for Exploratory Data Analysis"
      ]
    },
    {
      "cell_type": "markdown",
      "source": [
        "1. Histrogram\n",
        "- to visualize the distribution of a single numerical variable\n",
        "2. Pie Chart:\n",
        "- to illustrate the proportion of each category.\n",
        "- Mushroom Availability by Season\n",
        "3. Bar Chart:\n",
        "- excellent for visualizing the frequency or count of different categories within your data.\n",
        "- Edibility of Mushrooms by Cap Color"
      ],
      "metadata": {
        "id": "qKpSvy-fr83x"
      }
    },
    {
      "cell_type": "markdown",
      "source": [
        "## 2.1.1 Histrogram"
      ],
      "metadata": {
        "id": "EPenWHUywcxf"
      }
    },
    {
      "cell_type": "code",
      "source": [
        "X.hist(figsize=(30,16))\n",
        "plt.show()"
      ],
      "metadata": {
        "colab": {
          "base_uri": "https://localhost:8080/",
          "height": 1000
        },
        "id": "LUxd0AHrs93g",
        "outputId": "f3c34605-0def-423b-f0c9-5ad0d2ed6e84"
      },
      "execution_count": null,
      "outputs": [
        {
          "output_type": "display_data",
          "data": {
            "text/plain": [
              "<Figure size 3000x1600 with 4 Axes>"
            ],
            "image/png": "[encoded data removed]"
          },
          "metadata": {}
        }
      ]
    },
    {
      "cell_type": "markdown",
      "source": [
        "## 2.1.2 Pie Chart"
      ],
      "metadata": {
        "id": "LRTrUFAEwgMt"
      }
    },
    {
      "cell_type": "code",
      "source": [
        "# Count the occurrences of each season\n",
        "season_counts = df['season'].value_counts()\n",
        "\n",
        "# Create a pie chart\n",
        "plt.figure(figsize=(8, 8))\n",
        "plt.pie(season_counts, labels=season_counts.index, autopct='%1.1f%%', startangle=90)\n",
        "plt.title('Mushroom Availability by Season')\n",
        "plt.show()"
      ],
      "metadata": {
        "colab": {
          "base_uri": "https://localhost:8080/",
          "height": 675
        },
        "id": "ZXFPottps_IK",
        "outputId": "aeeb8661-85c1-4c8d-c75a-48b76ffb2d74"
      },
      "execution_count": null,
      "outputs": [
        {
          "output_type": "display_data",
          "data": {
            "text/plain": [
              "<Figure size 800x800 with 1 Axes>"
            ],
            "image/png": "[encoded data removed]"
          },
          "metadata": {}
        }
      ]
    },
    {
      "cell_type": "markdown",
      "source": [
        "## 2.1.3 Bar Chart"
      ],
      "metadata": {
        "id": "t4PNyETGwYDb"
      }
    },
    {
      "cell_type": "code",
      "execution_count": null,
      "metadata": {
        "id": "5ieg2EWou8K2",
        "colab": {
          "base_uri": "https://localhost:8080/",
          "height": 561
        },
        "outputId": "2a8475ff-f7ad-4255-cb90-93d7a61be5ce"
      },
      "outputs": [
        {
          "output_type": "display_data",
          "data": {
            "text/plain": [
              "<Figure size 1000x600 with 1 Axes>"
            ],
            "image/png": "[encoded data removed]"
          },
          "metadata": {}
        }
      ],
      "source": [
        "# Create a Bar chart of 'class' and 'cap-color'\n",
        "ct = pd.crosstab(df['cap-color'], df['class'])\n",
        "\n",
        "# Plot the bar chart\n",
        "ct.plot(kind='bar', stacked=False, figsize=(10, 6))\n",
        "plt.title('Edibility of Mushrooms by Cap Color')\n",
        "plt.xlabel('Cap Color')\n",
        "plt.ylabel('Count')\n",
        "plt.show()"
      ]
    },
    {
      "cell_type": "markdown",
      "metadata": {
        "id": "xD_n2LiRu8K2"
      },
      "source": [
        "# 3. Data Preprocessing Pipline\n",
        "- Handle Missing Values\n",
        "- Feature Engineering\n",
        "- Scale or Normalize Data\n",
        "- Encode Categorical Variables\n",
        "- Split the Data into Training and Test Sets\n",
        "\n"
      ]
    },
    {
      "cell_type": "markdown",
      "metadata": {
        "id": "UoHOtV1xu8K2"
      },
      "source": [
        "Import necessary libraries for pipeline"
      ]
    },
    {
      "cell_type": "code",
      "execution_count": null,
      "metadata": {
        "id": "sDaH5YVou8K2"
      },
      "outputs": [],
      "source": [
        "from sklearn.compose import ColumnTransformer\n",
        "from sklearn.pipeline import make_pipeline\n",
        "from sklearn.preprocessing import OneHotEncoder\n",
        "from sklearn.impute import SimpleImputer\n",
        "from sklearn.preprocessing import StandardScaler\n",
        "\n"
      ]
    },
    {
      "cell_type": "markdown",
      "source": [
        "1. Column Categorization and handle missing values with SimpleImputer\n",
        "2. Identify whether a numerical column should be considered as categorical based on the number of unique values"
      ],
      "metadata": {
        "id": "wNzgnMyj6YOB"
      }
    },
    {
      "cell_type": "code",
      "execution_count": null,
      "metadata": {
        "id": "8rUHSFJyu8K3"
      },
      "outputs": [],
      "source": [
        "# Create the cat and num columns\n",
        "# Get a list of column names from the 'X' DataFrame that are of numerical data types.\n",
        "# Get a list of column names from the 'X' DataFrame that are not of numerical data types.\n",
        "\n",
        "num_cols = X.select_dtypes(include='number').columns.to_list()\n",
        "cat_cols = X.select_dtypes(exclude='number').columns.to_list()\n",
        "\n",
        "\n",
        "# Create pipelines for numeric and categorical columns\n",
        "num_pipeline = make_pipeline(SimpleImputer(strategy='mean'), StandardScaler())\n",
        "cat_pipeline = make_pipeline(SimpleImputer(strategy='most_frequent'), OneHotEncoder(sparse_output=False))\n",
        "\n",
        "# Use ColumnTransformer to set the estimators and transformations\n",
        "\n",
        "preprocessing = ColumnTransformer([('num', num_pipeline, num_cols),\n",
        "                                   ('cat', cat_pipeline, cat_cols)],\n",
        "                                    remainder='passthrough'\n",
        "                                 )\n"
      ]
    },
    {
      "cell_type": "markdown",
      "metadata": {
        "id": "uPYw300Du8K3"
      },
      "source": [
        "Display the pipeline"
      ]
    },
    {
      "cell_type": "code",
      "source": [
        "num_cols"
      ],
      "metadata": {
        "colab": {
          "base_uri": "https://localhost:8080/"
        },
        "id": "974Z3ojjmJhh",
        "outputId": "b8c61bd1-d25b-4493-9a21-0eecebc7d9fb"
      },
      "execution_count": null,
      "outputs": [
        {
          "output_type": "execute_result",
          "data": {
            "text/plain": [
              "['cap-diameter', 'stem-height', 'stem-width']"
            ]
          },
          "metadata": {},
          "execution_count": 19
        }
      ]
    },
    {
      "cell_type": "code",
      "source": [
        "cat_cols"
      ],
      "metadata": {
        "colab": {
          "base_uri": "https://localhost:8080/"
        },
        "id": "QVyO-6kNmMpE",
        "outputId": "d4659dbc-141b-4de7-d529-3e05e0483099"
      },
      "execution_count": null,
      "outputs": [
        {
          "output_type": "execute_result",
          "data": {
            "text/plain": [
              "['cap-shape',\n",
              " 'cap-surface',\n",
              " 'cap-color',\n",
              " 'does-bruise-or-bleed',\n",
              " 'gill-attachment',\n",
              " 'gill-spacing',\n",
              " 'gill-color',\n",
              " 'stem-color',\n",
              " 'has-ring',\n",
              " 'ring-type',\n",
              " 'habitat',\n",
              " 'season']"
            ]
          },
          "metadata": {},
          "execution_count": 20
        }
      ]
    },
    {
      "cell_type": "code",
      "execution_count": null,
      "metadata": {
        "id": "JHoRPcenu8K3",
        "colab": {
          "base_uri": "https://localhost:8080/",
          "height": 152
        },
        "outputId": "3ddaf736-9f59-4379-b7ee-de0f01b68eda"
      },
      "outputs": [
        {
          "output_type": "execute_result",
          "data": {
            "text/plain": [
              "ColumnTransformer(remainder='passthrough',\n",
              "                  transformers=[('num',\n",
              "                                 Pipeline(steps=[('simpleimputer',\n",
              "                                                  SimpleImputer()),\n",
              "                                                 ('standardscaler',\n",
              "                                                  StandardScaler())]),\n",
              "                                 ['cap-diameter', 'stem-height', 'stem-width']),\n",
              "                                ('cat',\n",
              "                                 Pipeline(steps=[('simpleimputer',\n",
              "                                                  SimpleImputer(strategy='most_frequent')),\n",
              "                                                 ('onehotencoder',\n",
              "                                                  OneHotEncoder(sparse_output=False))]),\n",
              "                                 ['cap-shape', 'cap-surface', 'cap-color',\n",
              "                                  'does-bruise-or-bleed', 'gill-attachment',\n",
              "                                  'gill-spacing', 'gill-color', 'stem-color',\n",
              "                                  'has-ring', 'ring-type', 'habitat',\n",
              "                                  'season'])])"
            ],
            "text/html": [
              "<style>#sk-container-id-1 {color: black;background-color: white;}#sk-container-id-1 pre{padding: 0;}#sk-container-id-1 div.sk-toggleable {background-color: white;}#sk-container-id-1 label.sk-toggleable__label {cursor: pointer;display: block;width: 100%;margin-bottom: 0;padding: 0.3em;box-sizing: border-box;text-align: center;}#sk-container-id-1 label.sk-toggleable__label-arrow:before {content: \"▸\";float: left;margin-right: 0.25em;color: #696969;}#sk-container-id-1 label.sk-toggleable__label-arrow:hover:before {color: black;}#sk-container-id-1 div.sk-estimator:hover label.sk-toggleable__label-arrow:before {color: black;}#sk-container-id-1 div.sk-toggleable__content {max-height: 0;max-width: 0;overflow: hidden;text-align: left;background-color: #f0f8ff;}#sk-container-id-1 div.sk-toggleable__content pre {margin: 0.2em;color: black;border-radius: 0.25em;background-color: #f0f8ff;}#sk-container-id-1 input.sk-toggleable__control:checked~div.sk-toggleable__content {max-height: 200px;max-width: 100%;overflow: auto;}#sk-container-id-1 input.sk-toggleable__control:checked~label.sk-toggleable__label-arrow:before {content: \"▾\";}#sk-container-id-1 div.sk-estimator input.sk-toggleable__control:checked~label.sk-toggleable__label {background-color: #d4ebff;}#sk-container-id-1 div.sk-label input.sk-toggleable__control:checked~label.sk-toggleable__label {background-color: #d4ebff;}#sk-container-id-1 input.sk-hidden--visually {border: 0;clip: rect(1px 1px 1px 1px);clip: rect(1px, 1px, 1px, 1px);height: 1px;margin: -1px;overflow: hidden;padding: 0;position: absolute;width: 1px;}#sk-container-id-1 div.sk-estimator {font-family: monospace;background-color: #f0f8ff;border: 1px dotted black;border-radius: 0.25em;box-sizing: border-box;margin-bottom: 0.5em;}#sk-container-id-1 div.sk-estimator:hover {background-color: #d4ebff;}#sk-container-id-1 div.sk-parallel-item::after {content: \"\";width: 100%;border-bottom: 1px solid gray;flex-grow: 1;}#sk-container-id-1 div.sk-label:hover label.sk-toggleable__label {background-color: #d4ebff;}#sk-container-id-1 div.sk-serial::before {content: \"\";position: absolute;border-left: 1px solid gray;box-sizing: border-box;top: 0;bottom: 0;left: 50%;z-index: 0;}#sk-container-id-1 div.sk-serial {display: flex;flex-direction: column;align-items: center;background-color: white;padding-right: 0.2em;padding-left: 0.2em;position: relative;}#sk-container-id-1 div.sk-item {position: relative;z-index: 1;}#sk-container-id-1 div.sk-parallel {display: flex;align-items: stretch;justify-content: center;background-color: white;position: relative;}#sk-container-id-1 div.sk-item::before, #sk-container-id-1 div.sk-parallel-item::before {content: \"\";position: absolute;border-left: 1px solid gray;box-sizing: border-box;top: 0;bottom: 0;left: 50%;z-index: -1;}#sk-container-id-1 div.sk-parallel-item {display: flex;flex-direction: column;z-index: 1;position: relative;background-color: white;}#sk-container-id-1 div.sk-parallel-item:first-child::after {align-self: flex-end;width: 50%;}#sk-container-id-1 div.sk-parallel-item:last-child::after {align-self: flex-start;width: 50%;}#sk-container-id-1 div.sk-parallel-item:only-child::after {width: 0;}#sk-container-id-1 div.sk-dashed-wrapped {border: 1px dashed gray;margin: 0 0.4em 0.5em 0.4em;box-sizing: border-box;padding-bottom: 0.4em;background-color: white;}#sk-container-id-1 div.sk-label label {font-family: monospace;font-weight: bold;display: inline-block;line-height: 1.2em;}#sk-container-id-1 div.sk-label-container {text-align: center;}#sk-container-id-1 div.sk-container {/* jupyter's `normalize.less` sets `[hidden] { display: none; }` but bootstrap.min.css set `[hidden] { display: none !important; }` so we also need the `!important` here to be able to override the default hidden behavior on the sphinx rendered scikit-learn.org. See: https://github.com/scikit-learn/scikit-learn/issues/21755 */display: inline-block !important;position: relative;}#sk-container-id-1 div.sk-text-repr-fallback {display: none;}</style><div id=\"sk-container-id-1\" class=\"sk-top-container\"><div class=\"sk-text-repr-fallback\"><pre>ColumnTransformer(remainder=&#x27;passthrough&#x27;,\n",
              "                  transformers=[(&#x27;num&#x27;,\n",
              "                                 Pipeline(steps=[(&#x27;simpleimputer&#x27;,\n",
              "                                                  SimpleImputer()),\n",
              "                                                 (&#x27;standardscaler&#x27;,\n",
              "                                                  StandardScaler())]),\n",
              "                                 [&#x27;cap-diameter&#x27;, &#x27;stem-height&#x27;, &#x27;stem-width&#x27;]),\n",
              "                                (&#x27;cat&#x27;,\n",
              "                                 Pipeline(steps=[(&#x27;simpleimputer&#x27;,\n",
              "                                                  SimpleImputer(strategy=&#x27;most_frequent&#x27;)),\n",
              "                                                 (&#x27;onehotencoder&#x27;,\n",
              "                                                  OneHotEncoder(sparse_output=False))]),\n",
              "                                 [&#x27;cap-shape&#x27;, &#x27;cap-surface&#x27;, &#x27;cap-color&#x27;,\n",
              "                                  &#x27;does-bruise-or-bleed&#x27;, &#x27;gill-attachment&#x27;,\n",
              "                                  &#x27;gill-spacing&#x27;, &#x27;gill-color&#x27;, &#x27;stem-color&#x27;,\n",
              "                                  &#x27;has-ring&#x27;, &#x27;ring-type&#x27;, &#x27;habitat&#x27;,\n",
              "                                  &#x27;season&#x27;])])</pre><b>In a Jupyter environment, please rerun this cell to show the HTML representation or trust the notebook. <br />On GitHub, the HTML representation is unable to render, please try loading this page with nbviewer.org.</b></div><div class=\"sk-container\" hidden><div class=\"sk-item sk-dashed-wrapped\"><div class=\"sk-label-container\"><div class=\"sk-label sk-toggleable\"><input class=\"sk-toggleable__control sk-hidden--visually\" id=\"sk-estimator-id-1\" type=\"checkbox\" ><label for=\"sk-estimator-id-1\" class=\"sk-toggleable__label sk-toggleable__label-arrow\">ColumnTransformer</label><div class=\"sk-toggleable__content\"><pre>ColumnTransformer(remainder=&#x27;passthrough&#x27;,\n",
              "                  transformers=[(&#x27;num&#x27;,\n",
              "                                 Pipeline(steps=[(&#x27;simpleimputer&#x27;,\n",
              "                                                  SimpleImputer()),\n",
              "                                                 (&#x27;standardscaler&#x27;,\n",
              "                                                  StandardScaler())]),\n",
              "                                 [&#x27;cap-diameter&#x27;, &#x27;stem-height&#x27;, &#x27;stem-width&#x27;]),\n",
              "                                (&#x27;cat&#x27;,\n",
              "                                 Pipeline(steps=[(&#x27;simpleimputer&#x27;,\n",
              "                                                  SimpleImputer(strategy=&#x27;most_frequent&#x27;)),\n",
              "                                                 (&#x27;onehotencoder&#x27;,\n",
              "                                                  OneHotEncoder(sparse_output=False))]),\n",
              "                                 [&#x27;cap-shape&#x27;, &#x27;cap-surface&#x27;, &#x27;cap-color&#x27;,\n",
              "                                  &#x27;does-bruise-or-bleed&#x27;, &#x27;gill-attachment&#x27;,\n",
              "                                  &#x27;gill-spacing&#x27;, &#x27;gill-color&#x27;, &#x27;stem-color&#x27;,\n",
              "                                  &#x27;has-ring&#x27;, &#x27;ring-type&#x27;, &#x27;habitat&#x27;,\n",
              "                                  &#x27;season&#x27;])])</pre></div></div></div><div class=\"sk-parallel\"><div class=\"sk-parallel-item\"><div class=\"sk-item\"><div class=\"sk-label-container\"><div class=\"sk-label sk-toggleable\"><input class=\"sk-toggleable__control sk-hidden--visually\" id=\"sk-estimator-id-2\" type=\"checkbox\" ><label for=\"sk-estimator-id-2\" class=\"sk-toggleable__label sk-toggleable__label-arrow\">num</label><div class=\"sk-toggleable__content\"><pre>[&#x27;cap-diameter&#x27;, &#x27;stem-height&#x27;, &#x27;stem-width&#x27;]</pre></div></div></div><div class=\"sk-serial\"><div class=\"sk-item\"><div class=\"sk-serial\"><div class=\"sk-item\"><div class=\"sk-estimator sk-toggleable\"><input class=\"sk-toggleable__control sk-hidden--visually\" id=\"sk-estimator-id-3\" type=\"checkbox\" ><label for=\"sk-estimator-id-3\" class=\"sk-toggleable__label sk-toggleable__label-arrow\">SimpleImputer</label><div class=\"sk-toggleable__content\"><pre>SimpleImputer()</pre></div></div></div><div class=\"sk-item\"><div class=\"sk-estimator sk-toggleable\"><input class=\"sk-toggleable__control sk-hidden--visually\" id=\"sk-estimator-id-4\" type=\"checkbox\" ><label for=\"sk-estimator-id-4\" class=\"sk-toggleable__label sk-toggleable__label-arrow\">StandardScaler</label><div class=\"sk-toggleable__content\"><pre>StandardScaler()</pre></div></div></div></div></div></div></div></div><div class=\"sk-parallel-item\"><div class=\"sk-item\"><div class=\"sk-label-container\"><div class=\"sk-label sk-toggleable\"><input class=\"sk-toggleable__control sk-hidden--visually\" id=\"sk-estimator-id-5\" type=\"checkbox\" ><label for=\"sk-estimator-id-5\" class=\"sk-toggleable__label sk-toggleable__label-arrow\">cat</label><div class=\"sk-toggleable__content\"><pre>[&#x27;cap-shape&#x27;, &#x27;cap-surface&#x27;, &#x27;cap-color&#x27;, &#x27;does-bruise-or-bleed&#x27;, &#x27;gill-attachment&#x27;, &#x27;gill-spacing&#x27;, &#x27;gill-color&#x27;, &#x27;stem-color&#x27;, &#x27;has-ring&#x27;, &#x27;ring-type&#x27;, &#x27;habitat&#x27;, &#x27;season&#x27;]</pre></div></div></div><div class=\"sk-serial\"><div class=\"sk-item\"><div class=\"sk-serial\"><div class=\"sk-item\"><div class=\"sk-estimator sk-toggleable\"><input class=\"sk-toggleable__control sk-hidden--visually\" id=\"sk-estimator-id-6\" type=\"checkbox\" ><label for=\"sk-estimator-id-6\" class=\"sk-toggleable__label sk-toggleable__label-arrow\">SimpleImputer</label><div class=\"sk-toggleable__content\"><pre>SimpleImputer(strategy=&#x27;most_frequent&#x27;)</pre></div></div></div><div class=\"sk-item\"><div class=\"sk-estimator sk-toggleable\"><input class=\"sk-toggleable__control sk-hidden--visually\" id=\"sk-estimator-id-7\" type=\"checkbox\" ><label for=\"sk-estimator-id-7\" class=\"sk-toggleable__label sk-toggleable__label-arrow\">OneHotEncoder</label><div class=\"sk-toggleable__content\"><pre>OneHotEncoder(sparse_output=False)</pre></div></div></div></div></div></div></div></div><div class=\"sk-parallel-item\"><div class=\"sk-item\"><div class=\"sk-label-container\"><div class=\"sk-label sk-toggleable\"><input class=\"sk-toggleable__control sk-hidden--visually\" id=\"sk-estimator-id-8\" type=\"checkbox\" ><label for=\"sk-estimator-id-8\" class=\"sk-toggleable__label sk-toggleable__label-arrow\">remainder</label><div class=\"sk-toggleable__content\"><pre></pre></div></div></div><div class=\"sk-serial\"><div class=\"sk-item\"><div class=\"sk-estimator sk-toggleable\"><input class=\"sk-toggleable__control sk-hidden--visually\" id=\"sk-estimator-id-9\" type=\"checkbox\" ><label for=\"sk-estimator-id-9\" class=\"sk-toggleable__label sk-toggleable__label-arrow\">passthrough</label><div class=\"sk-toggleable__content\"><pre>passthrough</pre></div></div></div></div></div></div></div></div></div></div>"
            ]
          },
          "metadata": {},
          "execution_count": 21
        }
      ],
      "source": [
        "# Show the pipeline\n",
        "preprocessing"
      ]
    },
    {
      "cell_type": "markdown",
      "metadata": {
        "id": "yefXeyO1u8K3"
      },
      "source": [
        "Apply the preprocessing pipeline on the data set"
      ]
    },
    {
      "cell_type": "code",
      "execution_count": null,
      "metadata": {
        "id": "bHi0hCo3u8K3",
        "colab": {
          "base_uri": "https://localhost:8080/",
          "height": 441
        },
        "outputId": "ed08e2c2-63b1-4fe5-cbfe-ff9c695da6d7"
      },
      "outputs": [
        {
          "output_type": "execute_result",
          "data": {
            "text/plain": [
              "       num__cap-diameter  num__stem-height  num__stem-width  cat__cap-shape_b  \\\n",
              "0               1.619462          3.076705         0.492293               0.0   \n",
              "1               1.873982          3.385311         0.601900               0.0   \n",
              "2               1.393432          3.328931         0.557061               0.0   \n",
              "3               1.412426          2.726555         0.381690               0.0   \n",
              "4               1.501699          2.952075         0.503254               0.0   \n",
              "...                  ...               ...              ...               ...   \n",
              "61064          -1.054903         -0.786809        -0.590822               0.0   \n",
              "61065          -1.037808         -1.009362        -0.669539               0.0   \n",
              "61066          -1.037808         -0.807581        -0.575875               0.0   \n",
              "61067          -1.043506         -0.896602        -0.668543               0.0   \n",
              "61068          -1.056802         -0.988590        -0.667546               0.0   \n",
              "\n",
              "       cat__cap-shape_c  cat__cap-shape_f  cat__cap-shape_o  cat__cap-shape_p  \\\n",
              "0                   0.0               0.0               0.0               0.0   \n",
              "1                   0.0               0.0               0.0               0.0   \n",
              "2                   0.0               0.0               0.0               0.0   \n",
              "3                   0.0               1.0               0.0               0.0   \n",
              "4                   0.0               0.0               0.0               0.0   \n",
              "...                 ...               ...               ...               ...   \n",
              "61064               0.0               0.0               0.0               0.0   \n",
              "61065               0.0               1.0               0.0               0.0   \n",
              "61066               0.0               0.0               0.0               0.0   \n",
              "61067               0.0               1.0               0.0               0.0   \n",
              "61068               0.0               0.0               0.0               0.0   \n",
              "\n",
              "       cat__cap-shape_s  cat__cap-shape_x  ...  cat__habitat_h  \\\n",
              "0                   0.0               1.0  ...             0.0   \n",
              "1                   0.0               1.0  ...             0.0   \n",
              "2                   0.0               1.0  ...             0.0   \n",
              "3                   0.0               0.0  ...             0.0   \n",
              "4                   0.0               1.0  ...             0.0   \n",
              "...                 ...               ...  ...             ...   \n",
              "61064               1.0               0.0  ...             0.0   \n",
              "61065               0.0               0.0  ...             0.0   \n",
              "61066               1.0               0.0  ...             0.0   \n",
              "61067               0.0               0.0  ...             0.0   \n",
              "61068               1.0               0.0  ...             0.0   \n",
              "\n",
              "       cat__habitat_l  cat__habitat_m  cat__habitat_p  cat__habitat_u  \\\n",
              "0                 0.0             0.0             0.0             0.0   \n",
              "1                 0.0             0.0             0.0             0.0   \n",
              "2                 0.0             0.0             0.0             0.0   \n",
              "3                 0.0             0.0             0.0             0.0   \n",
              "4                 0.0             0.0             0.0             0.0   \n",
              "...               ...             ...             ...             ...   \n",
              "61064             0.0             0.0             0.0             0.0   \n",
              "61065             0.0             0.0             0.0             0.0   \n",
              "61066             0.0             0.0             0.0             0.0   \n",
              "61067             0.0             0.0             0.0             0.0   \n",
              "61068             0.0             0.0             0.0             0.0   \n",
              "\n",
              "       cat__habitat_w  cat__season_a  cat__season_s  cat__season_u  \\\n",
              "0                 0.0            0.0            0.0            0.0   \n",
              "1                 0.0            0.0            0.0            1.0   \n",
              "2                 0.0            0.0            0.0            0.0   \n",
              "3                 0.0            0.0            0.0            0.0   \n",
              "4                 0.0            0.0            0.0            0.0   \n",
              "...               ...            ...            ...            ...   \n",
              "61064             0.0            1.0            0.0            0.0   \n",
              "61065             0.0            1.0            0.0            0.0   \n",
              "61066             0.0            0.0            0.0            1.0   \n",
              "61067             0.0            0.0            0.0            1.0   \n",
              "61068             0.0            0.0            0.0            1.0   \n",
              "\n",
              "       cat__season_w  \n",
              "0                1.0  \n",
              "1                0.0  \n",
              "2                1.0  \n",
              "3                1.0  \n",
              "4                1.0  \n",
              "...              ...  \n",
              "61064            0.0  \n",
              "61065            0.0  \n",
              "61066            0.0  \n",
              "61067            0.0  \n",
              "61068            0.0  \n",
              "\n",
              "[61069 rows x 92 columns]"
            ],
            "text/html": [
              "\n",
              "  <div id=\"df-78673faa-7972-41cd-a825-15875b6f21d9\" class=\"colab-df-container\">\n",
              "    <div>\n",
              "<style scoped>\n",
              "    .dataframe tbody tr th:only-of-type {\n",
              "        vertical-align: middle;\n",
              "    }\n",
              "\n",
              "    .dataframe tbody tr th {\n",
              "        vertical-align: top;\n",
              "    }\n",
              "\n",
              "    .dataframe thead th {\n",
              "        text-align: right;\n",
              "    }\n",
              "</style>\n",
              "<table border=\"1\" class=\"dataframe\">\n",
              "  <thead>\n",
              "    <tr style=\"text-align: right;\">\n",
              "      <th></th>\n",
              "      <th>num__cap-diameter</th>\n",
              "      <th>num__stem-height</th>\n",
              "      <th>num__stem-width</th>\n",
              "      <th>cat__cap-shape_b</th>\n",
              "      <th>cat__cap-shape_c</th>\n",
              "      <th>cat__cap-shape_f</th>\n",
              "      <th>cat__cap-shape_o</th>\n",
              "      <th>cat__cap-shape_p</th>\n",
              "      <th>cat__cap-shape_s</th>\n",
              "      <th>cat__cap-shape_x</th>\n",
              "      <th>...</th>\n",
              "      <th>cat__habitat_h</th>\n",
              "      <th>cat__habitat_l</th>\n",
              "      <th>cat__habitat_m</th>\n",
              "      <th>cat__habitat_p</th>\n",
              "      <th>cat__habitat_u</th>\n",
              "      <th>cat__habitat_w</th>\n",
              "      <th>cat__season_a</th>\n",
              "      <th>cat__season_s</th>\n",
              "      <th>cat__season_u</th>\n",
              "      <th>cat__season_w</th>\n",
              "    </tr>\n",
              "  </thead>\n",
              "  <tbody>\n",
              "    <tr>\n",
              "      <th>0</th>\n",
              "      <td>1.619462</td>\n",
              "      <td>3.076705</td>\n",
              "      <td>0.492293</td>\n",
              "      <td>0.0</td>\n",
              "      <td>0.0</td>\n",
              "      <td>0.0</td>\n",
              "      <td>0.0</td>\n",
              "      <td>0.0</td>\n",
              "      <td>0.0</td>\n",
              "      <td>1.0</td>\n",
              "      <td>...</td>\n",
              "      <td>0.0</td>\n",
              "      <td>0.0</td>\n",
              "      <td>0.0</td>\n",
              "      <td>0.0</td>\n",
              "      <td>0.0</td>\n",
              "      <td>0.0</td>\n",
              "      <td>0.0</td>\n",
              "      <td>0.0</td>\n",
              "      <td>0.0</td>\n",
              "      <td>1.0</td>\n",
              "    </tr>\n",
              "    <tr>\n",
              "      <th>1</th>\n",
              "      <td>1.873982</td>\n",
              "      <td>3.385311</td>\n",
              "      <td>0.601900</td>\n",
              "      <td>0.0</td>\n",
              "      <td>0.0</td>\n",
              "      <td>0.0</td>\n",
              "      <td>0.0</td>\n",
              "      <td>0.0</td>\n",
              "      <td>0.0</td>\n",
              "      <td>1.0</td>\n",
              "      <td>...</td>\n",
              "      <td>0.0</td>\n",
              "      <td>0.0</td>\n",
              "      <td>0.0</td>\n",
              "      <td>0.0</td>\n",
              "      <td>0.0</td>\n",
              "      <td>0.0</td>\n",
              "      <td>0.0</td>\n",
              "      <td>0.0</td>\n",
              "      <td>1.0</td>\n",
              "      <td>0.0</td>\n",
              "    </tr>\n",
              "    <tr>\n",
              "      <th>2</th>\n",
              "      <td>1.393432</td>\n",
              "      <td>3.328931</td>\n",
              "      <td>0.557061</td>\n",
              "      <td>0.0</td>\n",
              "      <td>0.0</td>\n",
              "      <td>0.0</td>\n",
              "      <td>0.0</td>\n",
              "      <td>0.0</td>\n",
              "      <td>0.0</td>\n",
              "      <td>1.0</td>\n",
              "      <td>...</td>\n",
              "      <td>0.0</td>\n",
              "      <td>0.0</td>\n",
              "      <td>0.0</td>\n",
              "      <td>0.0</td>\n",
              "      <td>0.0</td>\n",
              "      <td>0.0</td>\n",
              "      <td>0.0</td>\n",
              "      <td>0.0</td>\n",
              "      <td>0.0</td>\n",
              "      <td>1.0</td>\n",
              "    </tr>\n",
              "    <tr>\n",
              "      <th>3</th>\n",
              "      <td>1.412426</td>\n",
              "      <td>2.726555</td>\n",
              "      <td>0.381690</td>\n",
              "      <td>0.0</td>\n",
              "      <td>0.0</td>\n",
              "      <td>1.0</td>\n",
              "      <td>0.0</td>\n",
              "      <td>0.0</td>\n",
              "      <td>0.0</td>\n",
              "      <td>0.0</td>\n",
              "      <td>...</td>\n",
              "      <td>0.0</td>\n",
              "      <td>0.0</td>\n",
              "      <td>0.0</td>\n",
              "      <td>0.0</td>\n",
              "      <td>0.0</td>\n",
              "      <td>0.0</td>\n",
              "      <td>0.0</td>\n",
              "      <td>0.0</td>\n",
              "      <td>0.0</td>\n",
              "      <td>1.0</td>\n",
              "    </tr>\n",
              "    <tr>\n",
              "      <th>4</th>\n",
              "      <td>1.501699</td>\n",
              "      <td>2.952075</td>\n",
              "      <td>0.503254</td>\n",
              "      <td>0.0</td>\n",
              "      <td>0.0</td>\n",
              "      <td>0.0</td>\n",
              "      <td>0.0</td>\n",
              "      <td>0.0</td>\n",
              "      <td>0.0</td>\n",
              "      <td>1.0</td>\n",
              "      <td>...</td>\n",
              "      <td>0.0</td>\n",
              "      <td>0.0</td>\n",
              "      <td>0.0</td>\n",
              "      <td>0.0</td>\n",
              "      <td>0.0</td>\n",
              "      <td>0.0</td>\n",
              "      <td>0.0</td>\n",
              "      <td>0.0</td>\n",
              "      <td>0.0</td>\n",
              "      <td>1.0</td>\n",
              "    </tr>\n",
              "    <tr>\n",
              "      <th>...</th>\n",
              "      <td>...</td>\n",
              "      <td>...</td>\n",
              "      <td>...</td>\n",
              "      <td>...</td>\n",
              "      <td>...</td>\n",
              "      <td>...</td>\n",
              "      <td>...</td>\n",
              "      <td>...</td>\n",
              "      <td>...</td>\n",
              "      <td>...</td>\n",
              "      <td>...</td>\n",
              "      <td>...</td>\n",
              "      <td>...</td>\n",
              "      <td>...</td>\n",
              "      <td>...</td>\n",
              "      <td>...</td>\n",
              "      <td>...</td>\n",
              "      <td>...</td>\n",
              "      <td>...</td>\n",
              "      <td>...</td>\n",
              "      <td>...</td>\n",
              "    </tr>\n",
              "    <tr>\n",
              "      <th>61064</th>\n",
              "      <td>-1.054903</td>\n",
              "      <td>-0.786809</td>\n",
              "      <td>-0.590822</td>\n",
              "      <td>0.0</td>\n",
              "      <td>0.0</td>\n",
              "      <td>0.0</td>\n",
              "      <td>0.0</td>\n",
              "      <td>0.0</td>\n",
              "      <td>1.0</td>\n",
              "      <td>0.0</td>\n",
              "      <td>...</td>\n",
              "      <td>0.0</td>\n",
              "      <td>0.0</td>\n",
              "      <td>0.0</td>\n",
              "      <td>0.0</td>\n",
              "      <td>0.0</td>\n",
              "      <td>0.0</td>\n",
              "      <td>1.0</td>\n",
              "      <td>0.0</td>\n",
              "      <td>0.0</td>\n",
              "      <td>0.0</td>\n",
              "    </tr>\n",
              "    <tr>\n",
              "      <th>61065</th>\n",
              "      <td>-1.037808</td>\n",
              "      <td>-1.009362</td>\n",
              "      <td>-0.669539</td>\n",
              "      <td>0.0</td>\n",
              "      <td>0.0</td>\n",
              "      <td>1.0</td>\n",
              "      <td>0.0</td>\n",
              "      <td>0.0</td>\n",
              "      <td>0.0</td>\n",
              "      <td>0.0</td>\n",
              "      <td>...</td>\n",
              "      <td>0.0</td>\n",
              "      <td>0.0</td>\n",
              "      <td>0.0</td>\n",
              "      <td>0.0</td>\n",
              "      <td>0.0</td>\n",
              "      <td>0.0</td>\n",
              "      <td>1.0</td>\n",
              "      <td>0.0</td>\n",
              "      <td>0.0</td>\n",
              "      <td>0.0</td>\n",
              "    </tr>\n",
              "    <tr>\n",
              "      <th>61066</th>\n",
              "      <td>-1.037808</td>\n",
              "      <td>-0.807581</td>\n",
              "      <td>-0.575875</td>\n",
              "      <td>0.0</td>\n",
              "      <td>0.0</td>\n",
              "      <td>0.0</td>\n",
              "      <td>0.0</td>\n",
              "      <td>0.0</td>\n",
              "      <td>1.0</td>\n",
              "      <td>0.0</td>\n",
              "      <td>...</td>\n",
              "      <td>0.0</td>\n",
              "      <td>0.0</td>\n",
              "      <td>0.0</td>\n",
              "      <td>0.0</td>\n",
              "      <td>0.0</td>\n",
              "      <td>0.0</td>\n",
              "      <td>0.0</td>\n",
              "      <td>0.0</td>\n",
              "      <td>1.0</td>\n",
              "      <td>0.0</td>\n",
              "    </tr>\n",
              "    <tr>\n",
              "      <th>61067</th>\n",
              "      <td>-1.043506</td>\n",
              "      <td>-0.896602</td>\n",
              "      <td>-0.668543</td>\n",
              "      <td>0.0</td>\n",
              "      <td>0.0</td>\n",
              "      <td>1.0</td>\n",
              "      <td>0.0</td>\n",
              "      <td>0.0</td>\n",
              "      <td>0.0</td>\n",
              "      <td>0.0</td>\n",
              "      <td>...</td>\n",
              "      <td>0.0</td>\n",
              "      <td>0.0</td>\n",
              "      <td>0.0</td>\n",
              "      <td>0.0</td>\n",
              "      <td>0.0</td>\n",
              "      <td>0.0</td>\n",
              "      <td>0.0</td>\n",
              "      <td>0.0</td>\n",
              "      <td>1.0</td>\n",
              "      <td>0.0</td>\n",
              "    </tr>\n",
              "    <tr>\n",
              "      <th>61068</th>\n",
              "      <td>-1.056802</td>\n",
              "      <td>-0.988590</td>\n",
              "      <td>-0.667546</td>\n",
              "      <td>0.0</td>\n",
              "      <td>0.0</td>\n",
              "      <td>0.0</td>\n",
              "      <td>0.0</td>\n",
              "      <td>0.0</td>\n",
              "      <td>1.0</td>\n",
              "      <td>0.0</td>\n",
              "      <td>...</td>\n",
              "      <td>0.0</td>\n",
              "      <td>0.0</td>\n",
              "      <td>0.0</td>\n",
              "      <td>0.0</td>\n",
              "      <td>0.0</td>\n",
              "      <td>0.0</td>\n",
              "      <td>0.0</td>\n",
              "      <td>0.0</td>\n",
              "      <td>1.0</td>\n",
              "      <td>0.0</td>\n",
              "    </tr>\n",
              "  </tbody>\n",
              "</table>\n",
              "<p>61069 rows × 92 columns</p>\n",
              "</div>\n",
              "    <div class=\"colab-df-buttons\">\n",
              "\n",
              "  <div class=\"colab-df-container\">\n",
              "    <button class=\"colab-df-convert\" onclick=\"convertToInteractive('df-78673faa-7972-41cd-a825-15875b6f21d9')\"\n",
              "            title=\"Convert this dataframe to an interactive table.\"\n",
              "            style=\"display:none;\">\n",
              "\n",
              "  <svg xmlns=\"http://www.w3.org/2000/svg\" height=\"24px\" viewBox=\"0 -960 960 960\">\n",
              "    <path d=\"M120-120v-720h720v720H120Zm60-500h600v-160H180v160Zm220 220h160v-160H400v160Zm0 220h160v-160H400v160ZM180-400h160v-160H180v160Zm440 0h160v-160H620v160ZM180-180h160v-160H180v160Zm440 0h160v-160H620v160Z\"/>\n",
              "  </svg>\n",
              "    </button>\n",
              "\n",
              "  <style>\n",
              "    .colab-df-container {\n",
              "      display:flex;\n",
              "      gap: 12px;\n",
              "    }\n",
              "\n",
              "    .colab-df-convert {\n",
              "      background-color: #E8F0FE;\n",
              "      border: none;\n",
              "      border-radius: 50%;\n",
              "      cursor: pointer;\n",
              "      display: none;\n",
              "      fill: #1967D2;\n",
              "      height: 32px;\n",
              "      padding: 0 0 0 0;\n",
              "      width: 32px;\n",
              "    }\n",
              "\n",
              "    .colab-df-convert:hover {\n",
              "      background-color: #E2EBFA;\n",
              "      box-shadow: 0px 1px 2px rgba(60, 64, 67, 0.3), 0px 1px 3px 1px rgba(60, 64, 67, 0.15);\n",
              "      fill: #174EA6;\n",
              "    }\n",
              "\n",
              "    .colab-df-buttons div {\n",
              "      margin-bottom: 4px;\n",
              "    }\n",
              "\n",
              "    [theme=dark] .colab-df-convert {\n",
              "      background-color: #3B4455;\n",
              "      fill: #D2E3FC;\n",
              "    }\n",
              "\n",
              "    [theme=dark] .colab-df-convert:hover {\n",
              "      background-color: #434B5C;\n",
              "      box-shadow: 0px 1px 3px 1px rgba(0, 0, 0, 0.15);\n",
              "      filter: drop-shadow(0px 1px 2px rgba(0, 0, 0, 0.3));\n",
              "      fill: #FFFFFF;\n",
              "    }\n",
              "  </style>\n",
              "\n",
              "    <script>\n",
              "      const buttonEl =\n",
              "        document.querySelector('#df-78673faa-7972-41cd-a825-15875b6f21d9 button.colab-df-convert');\n",
              "      buttonEl.style.display =\n",
              "        google.colab.kernel.accessAllowed ? 'block' : 'none';\n",
              "\n",
              "      async function convertToInteractive(key) {\n",
              "        const element = document.querySelector('#df-78673faa-7972-41cd-a825-15875b6f21d9');\n",
              "        const dataTable =\n",
              "          await google.colab.kernel.invokeFunction('convertToInteractive',\n",
              "                                                    [key], {});\n",
              "        if (!dataTable) return;\n",
              "\n",
              "        const docLinkHtml = 'Like what you see? Visit the ' +\n",
              "          '<a target=\"_blank\" href=https://colab.research.google.com/notebooks/data_table.ipynb>data table notebook</a>'\n",
              "          + ' to learn more about interactive tables.';\n",
              "        element.innerHTML = '';\n",
              "        dataTable['output_type'] = 'display_data';\n",
              "        await google.colab.output.renderOutput(dataTable, element);\n",
              "        const docLink = document.createElement('div');\n",
              "        docLink.innerHTML = docLinkHtml;\n",
              "        element.appendChild(docLink);\n",
              "      }\n",
              "    </script>\n",
              "  </div>\n",
              "\n",
              "\n",
              "<div id=\"df-7f3b2612-4b89-43aa-8e18-c4e22dffbd3b\">\n",
              "  <button class=\"colab-df-quickchart\" onclick=\"quickchart('df-7f3b2612-4b89-43aa-8e18-c4e22dffbd3b')\"\n",
              "            title=\"Suggest charts\"\n",
              "            style=\"display:none;\">\n",
              "\n",
              "<svg xmlns=\"http://www.w3.org/2000/svg\" height=\"24px\"viewBox=\"0 0 24 24\"\n",
              "     width=\"24px\">\n",
              "    <g>\n",
              "        <path d=\"M19 3H5c-1.1 0-2 .9-2 2v14c0 1.1.9 2 2 2h14c1.1 0 2-.9 2-2V5c0-1.1-.9-2-2-2zM9 17H7v-7h2v7zm4 0h-2V7h2v10zm4 0h-2v-4h2v4z\"/>\n",
              "    </g>\n",
              "</svg>\n",
              "  </button>\n",
              "\n",
              "<style>\n",
              "  .colab-df-quickchart {\n",
              "      --bg-color: #E8F0FE;\n",
              "      --fill-color: #1967D2;\n",
              "      --hover-bg-color: #E2EBFA;\n",
              "      --hover-fill-color: #174EA6;\n",
              "      --disabled-fill-color: #AAA;\n",
              "      --disabled-bg-color: #DDD;\n",
              "  }\n",
              "\n",
              "  [theme=dark] .colab-df-quickchart {\n",
              "      --bg-color: #3B4455;\n",
              "      --fill-color: #D2E3FC;\n",
              "      --hover-bg-color: #434B5C;\n",
              "      --hover-fill-color: #FFFFFF;\n",
              "      --disabled-bg-color: #3B4455;\n",
              "      --disabled-fill-color: #666;\n",
              "  }\n",
              "\n",
              "  .colab-df-quickchart {\n",
              "    background-color: var(--bg-color);\n",
              "    border: none;\n",
              "    border-radius: 50%;\n",
              "    cursor: pointer;\n",
              "    display: none;\n",
              "    fill: var(--fill-color);\n",
              "    height: 32px;\n",
              "    padding: 0;\n",
              "    width: 32px;\n",
              "  }\n",
              "\n",
              "  .colab-df-quickchart:hover {\n",
              "    background-color: var(--hover-bg-color);\n",
              "    box-shadow: 0 1px 2px rgba(60, 64, 67, 0.3), 0 1px 3px 1px rgba(60, 64, 67, 0.15);\n",
              "    fill: var(--button-hover-fill-color);\n",
              "  }\n",
              "\n",
              "  .colab-df-quickchart-complete:disabled,\n",
              "  .colab-df-quickchart-complete:disabled:hover {\n",
              "    background-color: var(--disabled-bg-color);\n",
              "    fill: var(--disabled-fill-color);\n",
              "    box-shadow: none;\n",
              "  }\n",
              "\n",
              "  .colab-df-spinner {\n",
              "    border: 2px solid var(--fill-color);\n",
              "    border-color: transparent;\n",
              "    border-bottom-color: var(--fill-color);\n",
              "    animation:\n",
              "      spin 1s steps(1) infinite;\n",
              "  }\n",
              "\n",
              "  @keyframes spin {\n",
              "    0% {\n",
              "      border-color: transparent;\n",
              "      border-bottom-color: var(--fill-color);\n",
              "      border-left-color: var(--fill-color);\n",
              "    }\n",
              "    20% {\n",
              "      border-color: transparent;\n",
              "      border-left-color: var(--fill-color);\n",
              "      border-top-color: var(--fill-color);\n",
              "    }\n",
              "    30% {\n",
              "      border-color: transparent;\n",
              "      border-left-color: var(--fill-color);\n",
              "      border-top-color: var(--fill-color);\n",
              "      border-right-color: var(--fill-color);\n",
              "    }\n",
              "    40% {\n",
              "      border-color: transparent;\n",
              "      border-right-color: var(--fill-color);\n",
              "      border-top-color: var(--fill-color);\n",
              "    }\n",
              "    60% {\n",
              "      border-color: transparent;\n",
              "      border-right-color: var(--fill-color);\n",
              "    }\n",
              "    80% {\n",
              "      border-color: transparent;\n",
              "      border-right-color: var(--fill-color);\n",
              "      border-bottom-color: var(--fill-color);\n",
              "    }\n",
              "    90% {\n",
              "      border-color: transparent;\n",
              "      border-bottom-color: var(--fill-color);\n",
              "    }\n",
              "  }\n",
              "</style>\n",
              "\n",
              "  <script>\n",
              "    async function quickchart(key) {\n",
              "      const quickchartButtonEl =\n",
              "        document.querySelector('#' + key + ' button');\n",
              "      quickchartButtonEl.disabled = true;  // To prevent multiple clicks.\n",
              "      quickchartButtonEl.classList.add('colab-df-spinner');\n",
              "      try {\n",
              "        const charts = await google.colab.kernel.invokeFunction(\n",
              "            'suggestCharts', [key], {});\n",
              "      } catch (error) {\n",
              "        console.error('Error during call to suggestCharts:', error);\n",
              "      }\n",
              "      quickchartButtonEl.classList.remove('colab-df-spinner');\n",
              "      quickchartButtonEl.classList.add('colab-df-quickchart-complete');\n",
              "    }\n",
              "    (() => {\n",
              "      let quickchartButtonEl =\n",
              "        document.querySelector('#df-7f3b2612-4b89-43aa-8e18-c4e22dffbd3b button');\n",
              "      quickchartButtonEl.style.display =\n",
              "        google.colab.kernel.accessAllowed ? 'block' : 'none';\n",
              "    })();\n",
              "  </script>\n",
              "</div>\n",
              "    </div>\n",
              "  </div>\n"
            ]
          },
          "metadata": {},
          "execution_count": 22
        }
      ],
      "source": [
        "# Apply the preprocessing transformations to the features 'X'.\n",
        "# This includes scaling, encoding categorical variables, imputation, etc.\n",
        "X_prepared = preprocessing.fit_transform(X)\n",
        "\n",
        "# add column headers back.\n",
        "feature_names=preprocessing.get_feature_names_out()\n",
        "\n",
        "# Create a new DataFrame from the transformed data 'X_prepared'.\n",
        "# Assign the feature names to the columns of this new DataFrame\n",
        "X_prepared = pd.DataFrame(data=X_prepared, columns=feature_names)\n",
        "\n",
        "X_prepared"
      ]
    },
    {
      "cell_type": "markdown",
      "source": [
        "## 3.1 Split the dataset into 80% training set and 20% test set"
      ],
      "metadata": {
        "id": "c8TYP0MfyfK7"
      }
    },
    {
      "cell_type": "code",
      "source": [
        "from sklearn.model_selection import train_test_split\n",
        "\n",
        "X_train, X_test, y_train, y_test = train_test_split(X_prepared, y, test_size=0.2, random_state=42)\n",
        "# Check if the dataset is balanced or not (The answer is yes, based on the shape)\n",
        "print(X_train.shape, y_train.shape, X_test.shape, y_test.shape)"
      ],
      "metadata": {
        "colab": {
          "base_uri": "https://localhost:8080/"
        },
        "id": "-XgZ5QgEy0QD",
        "outputId": "40e1a3f4-0822-43f9-c6ff-e141c595b334"
      },
      "execution_count": null,
      "outputs": [
        {
          "output_type": "stream",
          "name": "stdout",
          "text": [
            "(48855, 92) (48855,) (12214, 92) (12214,)\n"
          ]
        }
      ]
    },
    {
      "cell_type": "markdown",
      "metadata": {
        "id": "MTBBJxfau8K3"
      },
      "source": [
        "# 4. Model Selection\n",
        "svm,\n",
        "random forest tree,\n",
        "KNN"
      ]
    },
    {
      "cell_type": "code",
      "source": [
        "from sklearn.tree import DecisionTreeClassifier\n",
        "from sklearn.neural_network import MLPClassifier\n",
        "from sklearn.ensemble import RandomForestClassifier, AdaBoostClassifier\n",
        "from sklearn.neighbors import KNeighborsClassifier\n",
        "from sklearn.naive_bayes import GaussianNB\n",
        "from sklearn.linear_model import LogisticRegression\n",
        "from sklearn.metrics import accuracy_score\n",
        "from sklearn.svm import SVC\n",
        "from sklearn.metrics import classification_report\n"
      ],
      "metadata": {
        "id": "J0hLzVB91NN5"
      },
      "execution_count": null,
      "outputs": []
    },
    {
      "cell_type": "markdown",
      "source": [
        "## 4.1 Find out the accuracy of all kinds of classifiers"
      ],
      "metadata": {
        "id": "_yCrF4_d7MpK"
      }
    },
    {
      "cell_type": "code",
      "source": [
        "# List of all classifiers\n",
        "classifiers = {\n",
        "    'Decision Tree': DecisionTreeClassifier(random_state=42),\n",
        "    'Neural Network': MLPClassifier(hidden_layer_sizes=(100, 50), max_iter=1000, random_state=42),\n",
        "    'Random Forest': RandomForestClassifier(n_estimators=100, random_state=42),\n",
        "    'K-NN with k=1': KNeighborsClassifier(n_neighbors=1),\n",
        "    'K-NN with k=3': KNeighborsClassifier(n_neighbors=3),\n",
        "    'Gaussian Naive Bayes': GaussianNB(),\n",
        "    \"AdaBoost\": AdaBoostClassifier(),\n",
        "}\n",
        "\n",
        "# train each member and see how well they perform.\n",
        "# However, only using accuracy for performance measure ismisleading\n",
        "# Create an empty DataFrame to store the results\n",
        "results_df = pd.DataFrame(columns=['Classifier', 'Accuracy'])\n",
        "\n",
        "for name, clf in classifiers.items():\n",
        "    # fitting the model to the training data.\n",
        "    clf.fit(X_train, y_train)\n",
        "\n",
        "    # predict the test data.\n",
        "    predictions = clf.predict(X_test)\n",
        "\n",
        "    # Calculate accuracy for each model\n",
        "    accuracy = accuracy_score(y_test, predictions)\n",
        "\n",
        "    print(f\"The {name} classification report:\")\n",
        "\n",
        "    # Print the classification report\n",
        "    print(classification_report(y_test, predictions))\n",
        "\n",
        "    # Add results to the DataFrame\n",
        "    results_df = results_df.append({'Classifier': name, 'Accuracy': accuracy}, ignore_index=True)\n",
        "\n",
        "# Test SVM separately to set the threshold for the number of testing samples\n",
        "# C = 0.1\n",
        "model_svm = SVC(kernel='poly', C=0.1, gamma=1)\n",
        "model_svm.fit(X_train.iloc[:10000], y_train.iloc[:10000].values.ravel())\n",
        "svm_pred = model_svm.predict(X_test)\n",
        "svm_accuracy = accuracy_score(y_test, svm_pred)\n",
        "svm_classification_report = classification_report(y_test, svm_pred)\n",
        "# print(f\"The accuracy of SVM on the test set is: {svm_accuracy:%}\")\n",
        "# Add results to the DataFrame\n",
        "results_df = results_df.append({'Classifier': 'SVM', 'Accuracy': svm_accuracy}, ignore_index=True)\n",
        "\n",
        "results_df"
      ],
      "metadata": {
        "colab": {
          "base_uri": "https://localhost:8080/",
          "height": 1000
        },
        "id": "DJyLG1Hg1Fma",
        "outputId": "7647201e-69d6-4cd1-ad40-efba154fbf7e"
      },
      "execution_count": null,
      "outputs": [
        {
          "output_type": "stream",
          "name": "stdout",
          "text": [
            "The Decision Tree classification report:\n",
            "              precision    recall  f1-score   support\n",
            "\n",
            "           e       1.00      1.00      1.00      5374\n",
            "           p       1.00      1.00      1.00      6840\n",
            "\n",
            "    accuracy                           1.00     12214\n",
            "   macro avg       1.00      1.00      1.00     12214\n",
            "weighted avg       1.00      1.00      1.00     12214\n",
            "\n"
          ]
        },
        {
          "output_type": "stream",
          "name": "stderr",
          "text": [
            "<ipython-input-98-ab062c67861a>:33: FutureWarning: The frame.append method is deprecated and will be removed from pandas in a future version. Use pandas.concat instead.\n",
            "  results_df = results_df.append({'Classifier': name, 'Accuracy': accuracy}, ignore_index=True)\n"
          ]
        },
        {
          "output_type": "stream",
          "name": "stdout",
          "text": [
            "The Neural Network classification report:\n",
            "              precision    recall  f1-score   support\n",
            "\n",
            "           e       1.00      1.00      1.00      5374\n",
            "           p       1.00      1.00      1.00      6840\n",
            "\n",
            "    accuracy                           1.00     12214\n",
            "   macro avg       1.00      1.00      1.00     12214\n",
            "weighted avg       1.00      1.00      1.00     12214\n",
            "\n"
          ]
        },
        {
          "output_type": "stream",
          "name": "stderr",
          "text": [
            "<ipython-input-98-ab062c67861a>:33: FutureWarning: The frame.append method is deprecated and will be removed from pandas in a future version. Use pandas.concat instead.\n",
            "  results_df = results_df.append({'Classifier': name, 'Accuracy': accuracy}, ignore_index=True)\n"
          ]
        },
        {
          "output_type": "stream",
          "name": "stdout",
          "text": [
            "The Random Forest classification report:\n",
            "              precision    recall  f1-score   support\n",
            "\n",
            "           e       1.00      1.00      1.00      5374\n",
            "           p       1.00      1.00      1.00      6840\n",
            "\n",
            "    accuracy                           1.00     12214\n",
            "   macro avg       1.00      1.00      1.00     12214\n",
            "weighted avg       1.00      1.00      1.00     12214\n",
            "\n"
          ]
        },
        {
          "output_type": "stream",
          "name": "stderr",
          "text": [
            "<ipython-input-98-ab062c67861a>:33: FutureWarning: The frame.append method is deprecated and will be removed from pandas in a future version. Use pandas.concat instead.\n",
            "  results_df = results_df.append({'Classifier': name, 'Accuracy': accuracy}, ignore_index=True)\n"
          ]
        },
        {
          "output_type": "stream",
          "name": "stdout",
          "text": [
            "The K-NN with k=1 classification report:\n",
            "              precision    recall  f1-score   support\n",
            "\n",
            "           e       1.00      1.00      1.00      5374\n",
            "           p       1.00      1.00      1.00      6840\n",
            "\n",
            "    accuracy                           1.00     12214\n",
            "   macro avg       1.00      1.00      1.00     12214\n",
            "weighted avg       1.00      1.00      1.00     12214\n",
            "\n"
          ]
        },
        {
          "output_type": "stream",
          "name": "stderr",
          "text": [
            "<ipython-input-98-ab062c67861a>:33: FutureWarning: The frame.append method is deprecated and will be removed from pandas in a future version. Use pandas.concat instead.\n",
            "  results_df = results_df.append({'Classifier': name, 'Accuracy': accuracy}, ignore_index=True)\n"
          ]
        },
        {
          "output_type": "stream",
          "name": "stdout",
          "text": [
            "The K-NN with k=3 classification report:\n",
            "              precision    recall  f1-score   support\n",
            "\n",
            "           e       1.00      1.00      1.00      5374\n",
            "           p       1.00      1.00      1.00      6840\n",
            "\n",
            "    accuracy                           1.00     12214\n",
            "   macro avg       1.00      1.00      1.00     12214\n",
            "weighted avg       1.00      1.00      1.00     12214\n",
            "\n"
          ]
        },
        {
          "output_type": "stream",
          "name": "stderr",
          "text": [
            "<ipython-input-98-ab062c67861a>:33: FutureWarning: The frame.append method is deprecated and will be removed from pandas in a future version. Use pandas.concat instead.\n",
            "  results_df = results_df.append({'Classifier': name, 'Accuracy': accuracy}, ignore_index=True)\n"
          ]
        },
        {
          "output_type": "stream",
          "name": "stdout",
          "text": [
            "The Gaussian Naive Bayes classification report:\n",
            "              precision    recall  f1-score   support\n",
            "\n",
            "           e       0.73      0.56      0.63      5374\n",
            "           p       0.71      0.84      0.77      6840\n",
            "\n",
            "    accuracy                           0.71     12214\n",
            "   macro avg       0.72      0.70      0.70     12214\n",
            "weighted avg       0.72      0.71      0.71     12214\n",
            "\n"
          ]
        },
        {
          "output_type": "stream",
          "name": "stderr",
          "text": [
            "<ipython-input-98-ab062c67861a>:33: FutureWarning: The frame.append method is deprecated and will be removed from pandas in a future version. Use pandas.concat instead.\n",
            "  results_df = results_df.append({'Classifier': name, 'Accuracy': accuracy}, ignore_index=True)\n"
          ]
        },
        {
          "output_type": "stream",
          "name": "stdout",
          "text": [
            "The AdaBoost classification report:\n",
            "              precision    recall  f1-score   support\n",
            "\n",
            "           e       0.77      0.78      0.77      5374\n",
            "           p       0.82      0.82      0.82      6840\n",
            "\n",
            "    accuracy                           0.80     12214\n",
            "   macro avg       0.80      0.80      0.80     12214\n",
            "weighted avg       0.80      0.80      0.80     12214\n",
            "\n"
          ]
        },
        {
          "output_type": "stream",
          "name": "stderr",
          "text": [
            "<ipython-input-98-ab062c67861a>:33: FutureWarning: The frame.append method is deprecated and will be removed from pandas in a future version. Use pandas.concat instead.\n",
            "  results_df = results_df.append({'Classifier': name, 'Accuracy': accuracy}, ignore_index=True)\n",
            "<ipython-input-98-ab062c67861a>:44: FutureWarning: The frame.append method is deprecated and will be removed from pandas in a future version. Use pandas.concat instead.\n",
            "  results_df = results_df.append({'Classifier': 'SVM', 'Accuracy': svm_accuracy}, ignore_index=True)\n"
          ]
        },
        {
          "output_type": "execute_result",
          "data": {
            "text/plain": [
              "             Classifier  Accuracy\n",
              "0         Decision Tree  0.997380\n",
              "1        Neural Network  1.000000\n",
              "2         Random Forest  1.000000\n",
              "3         K-NN with k=1  1.000000\n",
              "4         K-NN with k=3  1.000000\n",
              "5  Gaussian Naive Bayes  0.713607\n",
              "6              AdaBoost  0.800720\n",
              "7                   SVM  0.999099"
            ],
            "text/html": [
              "\n",
              "  <div id=\"df-a296b710-b59a-4f0a-b6c0-c7412ccb1f72\" class=\"colab-df-container\">\n",
              "    <div>\n",
              "<style scoped>\n",
              "    .dataframe tbody tr th:only-of-type {\n",
              "        vertical-align: middle;\n",
              "    }\n",
              "\n",
              "    .dataframe tbody tr th {\n",
              "        vertical-align: top;\n",
              "    }\n",
              "\n",
              "    .dataframe thead th {\n",
              "        text-align: right;\n",
              "    }\n",
              "</style>\n",
              "<table border=\"1\" class=\"dataframe\">\n",
              "  <thead>\n",
              "    <tr style=\"text-align: right;\">\n",
              "      <th></th>\n",
              "      <th>Classifier</th>\n",
              "      <th>Accuracy</th>\n",
              "    </tr>\n",
              "  </thead>\n",
              "  <tbody>\n",
              "    <tr>\n",
              "      <th>0</th>\n",
              "      <td>Decision Tree</td>\n",
              "      <td>0.997380</td>\n",
              "    </tr>\n",
              "    <tr>\n",
              "      <th>1</th>\n",
              "      <td>Neural Network</td>\n",
              "      <td>1.000000</td>\n",
              "    </tr>\n",
              "    <tr>\n",
              "      <th>2</th>\n",
              "      <td>Random Forest</td>\n",
              "      <td>1.000000</td>\n",
              "    </tr>\n",
              "    <tr>\n",
              "      <th>3</th>\n",
              "      <td>K-NN with k=1</td>\n",
              "      <td>1.000000</td>\n",
              "    </tr>\n",
              "    <tr>\n",
              "      <th>4</th>\n",
              "      <td>K-NN with k=3</td>\n",
              "      <td>1.000000</td>\n",
              "    </tr>\n",
              "    <tr>\n",
              "      <th>5</th>\n",
              "      <td>Gaussian Naive Bayes</td>\n",
              "      <td>0.713607</td>\n",
              "    </tr>\n",
              "    <tr>\n",
              "      <th>6</th>\n",
              "      <td>AdaBoost</td>\n",
              "      <td>0.800720</td>\n",
              "    </tr>\n",
              "    <tr>\n",
              "      <th>7</th>\n",
              "      <td>SVM</td>\n",
              "      <td>0.999099</td>\n",
              "    </tr>\n",
              "  </tbody>\n",
              "</table>\n",
              "</div>\n",
              "    <div class=\"colab-df-buttons\">\n",
              "\n",
              "  <div class=\"colab-df-container\">\n",
              "    <button class=\"colab-df-convert\" onclick=\"convertToInteractive('df-a296b710-b59a-4f0a-b6c0-c7412ccb1f72')\"\n",
              "            title=\"Convert this dataframe to an interactive table.\"\n",
              "            style=\"display:none;\">\n",
              "\n",
              "  <svg xmlns=\"http://www.w3.org/2000/svg\" height=\"24px\" viewBox=\"0 -960 960 960\">\n",
              "    <path d=\"M120-120v-720h720v720H120Zm60-500h600v-160H180v160Zm220 220h160v-160H400v160Zm0 220h160v-160H400v160ZM180-400h160v-160H180v160Zm440 0h160v-160H620v160ZM180-180h160v-160H180v160Zm440 0h160v-160H620v160Z\"/>\n",
              "  </svg>\n",
              "    </button>\n",
              "\n",
              "  <style>\n",
              "    .colab-df-container {\n",
              "      display:flex;\n",
              "      gap: 12px;\n",
              "    }\n",
              "\n",
              "    .colab-df-convert {\n",
              "      background-color: #E8F0FE;\n",
              "      border: none;\n",
              "      border-radius: 50%;\n",
              "      cursor: pointer;\n",
              "      display: none;\n",
              "      fill: #1967D2;\n",
              "      height: 32px;\n",
              "      padding: 0 0 0 0;\n",
              "      width: 32px;\n",
              "    }\n",
              "\n",
              "    .colab-df-convert:hover {\n",
              "      background-color: #E2EBFA;\n",
              "      box-shadow: 0px 1px 2px rgba(60, 64, 67, 0.3), 0px 1px 3px 1px rgba(60, 64, 67, 0.15);\n",
              "      fill: #174EA6;\n",
              "    }\n",
              "\n",
              "    .colab-df-buttons div {\n",
              "      margin-bottom: 4px;\n",
              "    }\n",
              "\n",
              "    [theme=dark] .colab-df-convert {\n",
              "      background-color: #3B4455;\n",
              "      fill: #D2E3FC;\n",
              "    }\n",
              "\n",
              "    [theme=dark] .colab-df-convert:hover {\n",
              "      background-color: #434B5C;\n",
              "      box-shadow: 0px 1px 3px 1px rgba(0, 0, 0, 0.15);\n",
              "      filter: drop-shadow(0px 1px 2px rgba(0, 0, 0, 0.3));\n",
              "      fill: #FFFFFF;\n",
              "    }\n",
              "  </style>\n",
              "\n",
              "    <script>\n",
              "      const buttonEl =\n",
              "        document.querySelector('#df-a296b710-b59a-4f0a-b6c0-c7412ccb1f72 button.colab-df-convert');\n",
              "      buttonEl.style.display =\n",
              "        google.colab.kernel.accessAllowed ? 'block' : 'none';\n",
              "\n",
              "      async function convertToInteractive(key) {\n",
              "        const element = document.querySelector('#df-a296b710-b59a-4f0a-b6c0-c7412ccb1f72');\n",
              "        const dataTable =\n",
              "          await google.colab.kernel.invokeFunction('convertToInteractive',\n",
              "                                                    [key], {});\n",
              "        if (!dataTable) return;\n",
              "\n",
              "        const docLinkHtml = 'Like what you see? Visit the ' +\n",
              "          '<a target=\"_blank\" href=https://colab.research.google.com/notebooks/data_table.ipynb>data table notebook</a>'\n",
              "          + ' to learn more about interactive tables.';\n",
              "        element.innerHTML = '';\n",
              "        dataTable['output_type'] = 'display_data';\n",
              "        await google.colab.output.renderOutput(dataTable, element);\n",
              "        const docLink = document.createElement('div');\n",
              "        docLink.innerHTML = docLinkHtml;\n",
              "        element.appendChild(docLink);\n",
              "      }\n",
              "    </script>\n",
              "  </div>\n",
              "\n",
              "\n",
              "<div id=\"df-44b226e5-8796-4e09-b4a9-dd3879d1bd55\">\n",
              "  <button class=\"colab-df-quickchart\" onclick=\"quickchart('df-44b226e5-8796-4e09-b4a9-dd3879d1bd55')\"\n",
              "            title=\"Suggest charts\"\n",
              "            style=\"display:none;\">\n",
              "\n",
              "<svg xmlns=\"http://www.w3.org/2000/svg\" height=\"24px\"viewBox=\"0 0 24 24\"\n",
              "     width=\"24px\">\n",
              "    <g>\n",
              "        <path d=\"M19 3H5c-1.1 0-2 .9-2 2v14c0 1.1.9 2 2 2h14c1.1 0 2-.9 2-2V5c0-1.1-.9-2-2-2zM9 17H7v-7h2v7zm4 0h-2V7h2v10zm4 0h-2v-4h2v4z\"/>\n",
              "    </g>\n",
              "</svg>\n",
              "  </button>\n",
              "\n",
              "<style>\n",
              "  .colab-df-quickchart {\n",
              "      --bg-color: #E8F0FE;\n",
              "      --fill-color: #1967D2;\n",
              "      --hover-bg-color: #E2EBFA;\n",
              "      --hover-fill-color: #174EA6;\n",
              "      --disabled-fill-color: #AAA;\n",
              "      --disabled-bg-color: #DDD;\n",
              "  }\n",
              "\n",
              "  [theme=dark] .colab-df-quickchart {\n",
              "      --bg-color: #3B4455;\n",
              "      --fill-color: #D2E3FC;\n",
              "      --hover-bg-color: #434B5C;\n",
              "      --hover-fill-color: #FFFFFF;\n",
              "      --disabled-bg-color: #3B4455;\n",
              "      --disabled-fill-color: #666;\n",
              "  }\n",
              "\n",
              "  .colab-df-quickchart {\n",
              "    background-color: var(--bg-color);\n",
              "    border: none;\n",
              "    border-radius: 50%;\n",
              "    cursor: pointer;\n",
              "    display: none;\n",
              "    fill: var(--fill-color);\n",
              "    height: 32px;\n",
              "    padding: 0;\n",
              "    width: 32px;\n",
              "  }\n",
              "\n",
              "  .colab-df-quickchart:hover {\n",
              "    background-color: var(--hover-bg-color);\n",
              "    box-shadow: 0 1px 2px rgba(60, 64, 67, 0.3), 0 1px 3px 1px rgba(60, 64, 67, 0.15);\n",
              "    fill: var(--button-hover-fill-color);\n",
              "  }\n",
              "\n",
              "  .colab-df-quickchart-complete:disabled,\n",
              "  .colab-df-quickchart-complete:disabled:hover {\n",
              "    background-color: var(--disabled-bg-color);\n",
              "    fill: var(--disabled-fill-color);\n",
              "    box-shadow: none;\n",
              "  }\n",
              "\n",
              "  .colab-df-spinner {\n",
              "    border: 2px solid var(--fill-color);\n",
              "    border-color: transparent;\n",
              "    border-bottom-color: var(--fill-color);\n",
              "    animation:\n",
              "      spin 1s steps(1) infinite;\n",
              "  }\n",
              "\n",
              "  @keyframes spin {\n",
              "    0% {\n",
              "      border-color: transparent;\n",
              "      border-bottom-color: var(--fill-color);\n",
              "      border-left-color: var(--fill-color);\n",
              "    }\n",
              "    20% {\n",
              "      border-color: transparent;\n",
              "      border-left-color: var(--fill-color);\n",
              "      border-top-color: var(--fill-color);\n",
              "    }\n",
              "    30% {\n",
              "      border-color: transparent;\n",
              "      border-left-color: var(--fill-color);\n",
              "      border-top-color: var(--fill-color);\n",
              "      border-right-color: var(--fill-color);\n",
              "    }\n",
              "    40% {\n",
              "      border-color: transparent;\n",
              "      border-right-color: var(--fill-color);\n",
              "      border-top-color: var(--fill-color);\n",
              "    }\n",
              "    60% {\n",
              "      border-color: transparent;\n",
              "      border-right-color: var(--fill-color);\n",
              "    }\n",
              "    80% {\n",
              "      border-color: transparent;\n",
              "      border-right-color: var(--fill-color);\n",
              "      border-bottom-color: var(--fill-color);\n",
              "    }\n",
              "    90% {\n",
              "      border-color: transparent;\n",
              "      border-bottom-color: var(--fill-color);\n",
              "    }\n",
              "  }\n",
              "</style>\n",
              "\n",
              "  <script>\n",
              "    async function quickchart(key) {\n",
              "      const quickchartButtonEl =\n",
              "        document.querySelector('#' + key + ' button');\n",
              "      quickchartButtonEl.disabled = true;  // To prevent multiple clicks.\n",
              "      quickchartButtonEl.classList.add('colab-df-spinner');\n",
              "      try {\n",
              "        const charts = await google.colab.kernel.invokeFunction(\n",
              "            'suggestCharts', [key], {});\n",
              "      } catch (error) {\n",
              "        console.error('Error during call to suggestCharts:', error);\n",
              "      }\n",
              "      quickchartButtonEl.classList.remove('colab-df-spinner');\n",
              "      quickchartButtonEl.classList.add('colab-df-quickchart-complete');\n",
              "    }\n",
              "    (() => {\n",
              "      let quickchartButtonEl =\n",
              "        document.querySelector('#df-44b226e5-8796-4e09-b4a9-dd3879d1bd55 button');\n",
              "      quickchartButtonEl.style.display =\n",
              "        google.colab.kernel.accessAllowed ? 'block' : 'none';\n",
              "    })();\n",
              "  </script>\n",
              "</div>\n",
              "    </div>\n",
              "  </div>\n"
            ]
          },
          "metadata": {},
          "execution_count": 98
        }
      ]
    },
    {
      "cell_type": "markdown",
      "source": [
        "## 4.2 How well each classifier generalizes to unseen data\n",
        "- Only AdaBoost and Gaussian naive bayes have a slightly higher error rate than other classifiers\n",
        "- The best out of all classifiers are Random forest and k-NN"
      ],
      "metadata": {
        "id": "exLKhAVxBcoG"
      }
    },
    {
      "cell_type": "code",
      "source": [
        "from sklearn.model_selection import cross_val_score, KFold\n",
        "\n",
        "# Set up KFold cross-validation object with 10 folds\n",
        "kf = KFold(n_splits=5, shuffle=True, random_state=42)\n",
        "\n",
        "# Iterate over each classifier and perform cross-validation\n",
        "for name, clf in classifiers.items():\n",
        "    # Calculate cross-validation scores\n",
        "    scores = cross_val_score(clf, X_train, y_train, cv=kf, scoring='accuracy')\n",
        "\n",
        "    # Calculate the mean classification error rate, the error rate is the complement of accuracy\n",
        "    error_rate = 1 - scores.mean()\n",
        "    print(f\"Classification Error Rate for {name}: {error_rate:f}\")\n",
        "\n",
        "# Calculate SVM score with cross validation\n",
        "model_svm = SVC(kernel='poly', C=0.1, gamma=1)\n",
        "# Perform cross-validation\n",
        "scores = cross_val_score(model_svm, X_train, y_train, cv=kf, scoring='accuracy')\n",
        "error_rate_svm = 1 - scores.mean()\n",
        "print(f\"Classification Error Rate for SVM: {error_rate_svm:f}\")\n",
        "\n"
      ],
      "metadata": {
        "colab": {
          "base_uri": "https://localhost:8080/"
        },
        "id": "fZOd9U2P7Ab0",
        "outputId": "c057da34-a027-4f5a-e63e-da6203391164"
      },
      "execution_count": null,
      "outputs": [
        {
          "output_type": "stream",
          "name": "stdout",
          "text": [
            "Classification Error Rate for Decision Tree: 0.002436\n",
            "Classification Error Rate for Neural Network: 0.000041\n",
            "Classification Error Rate for Random Forest: 0.000061\n",
            "Classification Error Rate for K-NN with k=1: 0.000082\n",
            "Classification Error Rate for K-NN with k=3: 0.000164\n",
            "Classification Error Rate for Gaussian Naive Bayes: 0.287811\n",
            "Classification Error Rate for AdaBoost: 0.199652\n",
            "Classification Error Rate for SVM: 0.000205\n"
          ]
        }
      ]
    },
    {
      "cell_type": "markdown",
      "source": [
        "## 4.3 Reduce number of attributes by using Mutual-information score and select the top 7 attibutes with the highest score"
      ],
      "metadata": {
        "id": "2GGPJwNVxt-Q"
      }
    },
    {
      "cell_type": "code",
      "source": [
        "from sklearn.feature_selection import mutual_info_classif\n",
        "\n",
        "# Calculate mutual information scores for each feature\n",
        "mutual_info_scores = mutual_info_classif(X_train, y_train, discrete_features='auto', random_state=42)\n",
        "\n",
        "# Find the top 7 attributes with the highest scores\n",
        "top_7_indices = np.argsort(mutual_info_scores)[-7:] # get the indices that would sort it in ascending order\n",
        "selected_attrs = X_prepared.columns[top_7_indices]\n",
        "print(selected_attrs)\n",
        "\n",
        "X_train_low_dim = X_train[selected_attrs]\n",
        "X_test_low_dim = X_test[selected_attrs]\n",
        "\n",
        "# We will re-examine the models using reduced dataset\n",
        "classifiers_reduced = {\n",
        "    'Decision Tree': DecisionTreeClassifier(random_state=42),\n",
        "    'Neural Network': MLPClassifier(hidden_layer_sizes=(100, 50), max_iter=1000, random_state=42),\n",
        "    'Random Forest': RandomForestClassifier(n_estimators=100, random_state=42),\n",
        "    'K-NN with k=1': KNeighborsClassifier(n_neighbors=1),\n",
        "    'K-NN with k=3': KNeighborsClassifier(n_neighbors=3),\n",
        "    'Gaussian Naive Bayes': GaussianNB(),\n",
        "    \"AdaBoost\": AdaBoostClassifier(),\n",
        "}\n",
        "\n",
        "# Retrain models using reduced dataset\n",
        "reduced_results_df = pd.DataFrame(columns=['Classifier', 'Accuracy'])\n",
        "\n",
        "for name, clf in classifiers_reduced.items():\n",
        "    # fitting the model to the training data.\n",
        "    clf.fit(X_train_low_dim, y_train)\n",
        "\n",
        "    # predict the test data.\n",
        "    predictions = clf.predict(X_test_low_dim)\n",
        "\n",
        "    # Calculate accuracy for each model\n",
        "    accuracy = accuracy_score(y_test, predictions)\n",
        "\n",
        "    print(f\"The {name} classification report:\")\n",
        "\n",
        "    # Print the classification report\n",
        "    print(classification_report(y_test, predictions))\n",
        "\n",
        "    # Add results to the DataFrame\n",
        "    reduced_results_df = reduced_results_df.append({'Classifier': name, 'Accuracy': accuracy}, ignore_index=True)\n",
        "\n",
        "# Test SVM separately to set the threshold for the number of testing samples\n",
        "# C = 0.1\n",
        "model_svm_reduced = SVC(kernel='poly', C=0.1, gamma=1)\n",
        "model_svm_reduced.fit(X_train_low_dim.iloc[:10000], y_train.iloc[:10000].values.ravel())\n",
        "svm_pred_reduced = model_svm_reduced.predict(X_test_low_dim)\n",
        "svm_reduced_accuracy = accuracy_score(y_test, svm_pred_reduced)\n",
        "svm_reduced_classification_report = classification_report(y_test, svm_pred_reduced)\n",
        "# print(f\"The accuracy of SVM on the test set is: {svm_accuracy:%}\")\n",
        "# Add results to the DataFrame\n",
        "reduced_results_df = reduced_results_df.append({'Classifier': 'SVM', 'Accuracy': svm_reduced_accuracy}, ignore_index=True)\n",
        "\n",
        "reduced_results_df"
      ],
      "metadata": {
        "colab": {
          "base_uri": "https://localhost:8080/",
          "height": 1000
        },
        "id": "VVbPfNR5yG73",
        "outputId": "26f8f438-75fb-4341-d405-8300404d454a"
      },
      "execution_count": null,
      "outputs": [
        {
          "output_type": "stream",
          "name": "stdout",
          "text": [
            "Index(['cat__cap-shape_b', 'cat__gill-color_w', 'cat__stem-color_w',\n",
            "       'cat__ring-type_z', 'num__cap-diameter', 'num__stem-height',\n",
            "       'num__stem-width'],\n",
            "      dtype='object')\n",
            "The Decision Tree classification report:\n",
            "              precision    recall  f1-score   support\n",
            "\n",
            "           e       0.84      0.84      0.84      5374\n",
            "           p       0.88      0.87      0.87      6840\n",
            "\n",
            "    accuracy                           0.86     12214\n",
            "   macro avg       0.86      0.86      0.86     12214\n",
            "weighted avg       0.86      0.86      0.86     12214\n",
            "\n"
          ]
        },
        {
          "output_type": "stream",
          "name": "stderr",
          "text": [
            "<ipython-input-61-fae583ec39ae>:44: FutureWarning: The frame.append method is deprecated and will be removed from pandas in a future version. Use pandas.concat instead.\n",
            "  reduced_results_df = reduced_results_df.append({'Classifier': name, 'Accuracy': accuracy}, ignore_index=True)\n"
          ]
        },
        {
          "output_type": "stream",
          "name": "stdout",
          "text": [
            "The Neural Network classification report:\n",
            "              precision    recall  f1-score   support\n",
            "\n",
            "           e       0.87      0.87      0.87      5374\n",
            "           p       0.90      0.90      0.90      6840\n",
            "\n",
            "    accuracy                           0.89     12214\n",
            "   macro avg       0.88      0.88      0.88     12214\n",
            "weighted avg       0.89      0.89      0.89     12214\n",
            "\n"
          ]
        },
        {
          "output_type": "stream",
          "name": "stderr",
          "text": [
            "<ipython-input-61-fae583ec39ae>:44: FutureWarning: The frame.append method is deprecated and will be removed from pandas in a future version. Use pandas.concat instead.\n",
            "  reduced_results_df = reduced_results_df.append({'Classifier': name, 'Accuracy': accuracy}, ignore_index=True)\n"
          ]
        },
        {
          "output_type": "stream",
          "name": "stdout",
          "text": [
            "The Random Forest classification report:\n",
            "              precision    recall  f1-score   support\n",
            "\n",
            "           e       0.87      0.89      0.88      5374\n",
            "           p       0.91      0.89      0.90      6840\n",
            "\n",
            "    accuracy                           0.89     12214\n",
            "   macro avg       0.89      0.89      0.89     12214\n",
            "weighted avg       0.89      0.89      0.89     12214\n",
            "\n"
          ]
        },
        {
          "output_type": "stream",
          "name": "stderr",
          "text": [
            "<ipython-input-61-fae583ec39ae>:44: FutureWarning: The frame.append method is deprecated and will be removed from pandas in a future version. Use pandas.concat instead.\n",
            "  reduced_results_df = reduced_results_df.append({'Classifier': name, 'Accuracy': accuracy}, ignore_index=True)\n"
          ]
        },
        {
          "output_type": "stream",
          "name": "stdout",
          "text": [
            "The K-NN with k=1 classification report:\n",
            "              precision    recall  f1-score   support\n",
            "\n",
            "           e       0.85      0.85      0.85      5374\n",
            "           p       0.88      0.88      0.88      6840\n",
            "\n",
            "    accuracy                           0.87     12214\n",
            "   macro avg       0.87      0.87      0.87     12214\n",
            "weighted avg       0.87      0.87      0.87     12214\n",
            "\n"
          ]
        },
        {
          "output_type": "stream",
          "name": "stderr",
          "text": [
            "<ipython-input-61-fae583ec39ae>:44: FutureWarning: The frame.append method is deprecated and will be removed from pandas in a future version. Use pandas.concat instead.\n",
            "  reduced_results_df = reduced_results_df.append({'Classifier': name, 'Accuracy': accuracy}, ignore_index=True)\n"
          ]
        },
        {
          "output_type": "stream",
          "name": "stdout",
          "text": [
            "The K-NN with k=3 classification report:\n",
            "              precision    recall  f1-score   support\n",
            "\n",
            "           e       0.86      0.87      0.87      5374\n",
            "           p       0.90      0.89      0.89      6840\n",
            "\n",
            "    accuracy                           0.88     12214\n",
            "   macro avg       0.88      0.88      0.88     12214\n",
            "weighted avg       0.88      0.88      0.88     12214\n",
            "\n",
            "The Gaussian Naive Bayes classification report:\n"
          ]
        },
        {
          "output_type": "stream",
          "name": "stderr",
          "text": [
            "<ipython-input-61-fae583ec39ae>:44: FutureWarning: The frame.append method is deprecated and will be removed from pandas in a future version. Use pandas.concat instead.\n",
            "  reduced_results_df = reduced_results_df.append({'Classifier': name, 'Accuracy': accuracy}, ignore_index=True)\n"
          ]
        },
        {
          "output_type": "stream",
          "name": "stdout",
          "text": [
            "              precision    recall  f1-score   support\n",
            "\n",
            "           e       0.46      1.00      0.63      5374\n",
            "           p       1.00      0.06      0.12      6840\n",
            "\n",
            "    accuracy                           0.48     12214\n",
            "   macro avg       0.73      0.53      0.37     12214\n",
            "weighted avg       0.76      0.48      0.34     12214\n",
            "\n"
          ]
        },
        {
          "output_type": "stream",
          "name": "stderr",
          "text": [
            "<ipython-input-61-fae583ec39ae>:44: FutureWarning: The frame.append method is deprecated and will be removed from pandas in a future version. Use pandas.concat instead.\n",
            "  reduced_results_df = reduced_results_df.append({'Classifier': name, 'Accuracy': accuracy}, ignore_index=True)\n"
          ]
        },
        {
          "output_type": "stream",
          "name": "stdout",
          "text": [
            "The AdaBoost classification report:\n",
            "              precision    recall  f1-score   support\n",
            "\n",
            "           e       0.69      0.64      0.66      5374\n",
            "           p       0.73      0.77      0.75      6840\n",
            "\n",
            "    accuracy                           0.71     12214\n",
            "   macro avg       0.71      0.70      0.71     12214\n",
            "weighted avg       0.71      0.71      0.71     12214\n",
            "\n"
          ]
        },
        {
          "output_type": "stream",
          "name": "stderr",
          "text": [
            "<ipython-input-61-fae583ec39ae>:44: FutureWarning: The frame.append method is deprecated and will be removed from pandas in a future version. Use pandas.concat instead.\n",
            "  reduced_results_df = reduced_results_df.append({'Classifier': name, 'Accuracy': accuracy}, ignore_index=True)\n",
            "<ipython-input-61-fae583ec39ae>:55: FutureWarning: The frame.append method is deprecated and will be removed from pandas in a future version. Use pandas.concat instead.\n",
            "  reduced_results_df = reduced_results_df.append({'Classifier': 'SVM', 'Accuracy': svm_reduced_accuracy}, ignore_index=True)\n"
          ]
        },
        {
          "output_type": "execute_result",
          "data": {
            "text/plain": [
              "             Classifier  Accuracy\n",
              "0         Decision Tree  0.858605\n",
              "1        Neural Network  0.886278\n",
              "2         Random Forest  0.889717\n",
              "3         K-NN with k=1  0.869494\n",
              "4         K-NN with k=3  0.881611\n",
              "5  Gaussian Naive Bayes  0.475438\n",
              "6              AdaBoost  0.712297\n",
              "7                   SVM  0.731619"
            ],
            "text/html": [
              "\n",
              "  <div id=\"df-b2550cd6-b924-4c8a-b97d-6b9769c3ea24\" class=\"colab-df-container\">\n",
              "    <div>\n",
              "<style scoped>\n",
              "    .dataframe tbody tr th:only-of-type {\n",
              "        vertical-align: middle;\n",
              "    }\n",
              "\n",
              "    .dataframe tbody tr th {\n",
              "        vertical-align: top;\n",
              "    }\n",
              "\n",
              "    .dataframe thead th {\n",
              "        text-align: right;\n",
              "    }\n",
              "</style>\n",
              "<table border=\"1\" class=\"dataframe\">\n",
              "  <thead>\n",
              "    <tr style=\"text-align: right;\">\n",
              "      <th></th>\n",
              "      <th>Classifier</th>\n",
              "      <th>Accuracy</th>\n",
              "    </tr>\n",
              "  </thead>\n",
              "  <tbody>\n",
              "    <tr>\n",
              "      <th>0</th>\n",
              "      <td>Decision Tree</td>\n",
              "      <td>0.858605</td>\n",
              "    </tr>\n",
              "    <tr>\n",
              "      <th>1</th>\n",
              "      <td>Neural Network</td>\n",
              "      <td>0.886278</td>\n",
              "    </tr>\n",
              "    <tr>\n",
              "      <th>2</th>\n",
              "      <td>Random Forest</td>\n",
              "      <td>0.889717</td>\n",
              "    </tr>\n",
              "    <tr>\n",
              "      <th>3</th>\n",
              "      <td>K-NN with k=1</td>\n",
              "      <td>0.869494</td>\n",
              "    </tr>\n",
              "    <tr>\n",
              "      <th>4</th>\n",
              "      <td>K-NN with k=3</td>\n",
              "      <td>0.881611</td>\n",
              "    </tr>\n",
              "    <tr>\n",
              "      <th>5</th>\n",
              "      <td>Gaussian Naive Bayes</td>\n",
              "      <td>0.475438</td>\n",
              "    </tr>\n",
              "    <tr>\n",
              "      <th>6</th>\n",
              "      <td>AdaBoost</td>\n",
              "      <td>0.712297</td>\n",
              "    </tr>\n",
              "    <tr>\n",
              "      <th>7</th>\n",
              "      <td>SVM</td>\n",
              "      <td>0.731619</td>\n",
              "    </tr>\n",
              "  </tbody>\n",
              "</table>\n",
              "</div>\n",
              "    <div class=\"colab-df-buttons\">\n",
              "\n",
              "  <div class=\"colab-df-container\">\n",
              "    <button class=\"colab-df-convert\" onclick=\"convertToInteractive('df-b2550cd6-b924-4c8a-b97d-6b9769c3ea24')\"\n",
              "            title=\"Convert this dataframe to an interactive table.\"\n",
              "            style=\"display:none;\">\n",
              "\n",
              "  <svg xmlns=\"http://www.w3.org/2000/svg\" height=\"24px\" viewBox=\"0 -960 960 960\">\n",
              "    <path d=\"M120-120v-720h720v720H120Zm60-500h600v-160H180v160Zm220 220h160v-160H400v160Zm0 220h160v-160H400v160ZM180-400h160v-160H180v160Zm440 0h160v-160H620v160ZM180-180h160v-160H180v160Zm440 0h160v-160H620v160Z\"/>\n",
              "  </svg>\n",
              "    </button>\n",
              "\n",
              "  <style>\n",
              "    .colab-df-container {\n",
              "      display:flex;\n",
              "      gap: 12px;\n",
              "    }\n",
              "\n",
              "    .colab-df-convert {\n",
              "      background-color: #E8F0FE;\n",
              "      border: none;\n",
              "      border-radius: 50%;\n",
              "      cursor: pointer;\n",
              "      display: none;\n",
              "      fill: #1967D2;\n",
              "      height: 32px;\n",
              "      padding: 0 0 0 0;\n",
              "      width: 32px;\n",
              "    }\n",
              "\n",
              "    .colab-df-convert:hover {\n",
              "      background-color: #E2EBFA;\n",
              "      box-shadow: 0px 1px 2px rgba(60, 64, 67, 0.3), 0px 1px 3px 1px rgba(60, 64, 67, 0.15);\n",
              "      fill: #174EA6;\n",
              "    }\n",
              "\n",
              "    .colab-df-buttons div {\n",
              "      margin-bottom: 4px;\n",
              "    }\n",
              "\n",
              "    [theme=dark] .colab-df-convert {\n",
              "      background-color: #3B4455;\n",
              "      fill: #D2E3FC;\n",
              "    }\n",
              "\n",
              "    [theme=dark] .colab-df-convert:hover {\n",
              "      background-color: #434B5C;\n",
              "      box-shadow: 0px 1px 3px 1px rgba(0, 0, 0, 0.15);\n",
              "      filter: drop-shadow(0px 1px 2px rgba(0, 0, 0, 0.3));\n",
              "      fill: #FFFFFF;\n",
              "    }\n",
              "  </style>\n",
              "\n",
              "    <script>\n",
              "      const buttonEl =\n",
              "        document.querySelector('#df-b2550cd6-b924-4c8a-b97d-6b9769c3ea24 button.colab-df-convert');\n",
              "      buttonEl.style.display =\n",
              "        google.colab.kernel.accessAllowed ? 'block' : 'none';\n",
              "\n",
              "      async function convertToInteractive(key) {\n",
              "        const element = document.querySelector('#df-b2550cd6-b924-4c8a-b97d-6b9769c3ea24');\n",
              "        const dataTable =\n",
              "          await google.colab.kernel.invokeFunction('convertToInteractive',\n",
              "                                                    [key], {});\n",
              "        if (!dataTable) return;\n",
              "\n",
              "        const docLinkHtml = 'Like what you see? Visit the ' +\n",
              "          '<a target=\"_blank\" href=https://colab.research.google.com/notebooks/data_table.ipynb>data table notebook</a>'\n",
              "          + ' to learn more about interactive tables.';\n",
              "        element.innerHTML = '';\n",
              "        dataTable['output_type'] = 'display_data';\n",
              "        await google.colab.output.renderOutput(dataTable, element);\n",
              "        const docLink = document.createElement('div');\n",
              "        docLink.innerHTML = docLinkHtml;\n",
              "        element.appendChild(docLink);\n",
              "      }\n",
              "    </script>\n",
              "  </div>\n",
              "\n",
              "\n",
              "<div id=\"df-9094aae0-19bd-4d5b-8ca5-b7cfe90782ad\">\n",
              "  <button class=\"colab-df-quickchart\" onclick=\"quickchart('df-9094aae0-19bd-4d5b-8ca5-b7cfe90782ad')\"\n",
              "            title=\"Suggest charts\"\n",
              "            style=\"display:none;\">\n",
              "\n",
              "<svg xmlns=\"http://www.w3.org/2000/svg\" height=\"24px\"viewBox=\"0 0 24 24\"\n",
              "     width=\"24px\">\n",
              "    <g>\n",
              "        <path d=\"M19 3H5c-1.1 0-2 .9-2 2v14c0 1.1.9 2 2 2h14c1.1 0 2-.9 2-2V5c0-1.1-.9-2-2-2zM9 17H7v-7h2v7zm4 0h-2V7h2v10zm4 0h-2v-4h2v4z\"/>\n",
              "    </g>\n",
              "</svg>\n",
              "  </button>\n",
              "\n",
              "<style>\n",
              "  .colab-df-quickchart {\n",
              "      --bg-color: #E8F0FE;\n",
              "      --fill-color: #1967D2;\n",
              "      --hover-bg-color: #E2EBFA;\n",
              "      --hover-fill-color: #174EA6;\n",
              "      --disabled-fill-color: #AAA;\n",
              "      --disabled-bg-color: #DDD;\n",
              "  }\n",
              "\n",
              "  [theme=dark] .colab-df-quickchart {\n",
              "      --bg-color: #3B4455;\n",
              "      --fill-color: #D2E3FC;\n",
              "      --hover-bg-color: #434B5C;\n",
              "      --hover-fill-color: #FFFFFF;\n",
              "      --disabled-bg-color: #3B4455;\n",
              "      --disabled-fill-color: #666;\n",
              "  }\n",
              "\n",
              "  .colab-df-quickchart {\n",
              "    background-color: var(--bg-color);\n",
              "    border: none;\n",
              "    border-radius: 50%;\n",
              "    cursor: pointer;\n",
              "    display: none;\n",
              "    fill: var(--fill-color);\n",
              "    height: 32px;\n",
              "    padding: 0;\n",
              "    width: 32px;\n",
              "  }\n",
              "\n",
              "  .colab-df-quickchart:hover {\n",
              "    background-color: var(--hover-bg-color);\n",
              "    box-shadow: 0 1px 2px rgba(60, 64, 67, 0.3), 0 1px 3px 1px rgba(60, 64, 67, 0.15);\n",
              "    fill: var(--button-hover-fill-color);\n",
              "  }\n",
              "\n",
              "  .colab-df-quickchart-complete:disabled,\n",
              "  .colab-df-quickchart-complete:disabled:hover {\n",
              "    background-color: var(--disabled-bg-color);\n",
              "    fill: var(--disabled-fill-color);\n",
              "    box-shadow: none;\n",
              "  }\n",
              "\n",
              "  .colab-df-spinner {\n",
              "    border: 2px solid var(--fill-color);\n",
              "    border-color: transparent;\n",
              "    border-bottom-color: var(--fill-color);\n",
              "    animation:\n",
              "      spin 1s steps(1) infinite;\n",
              "  }\n",
              "\n",
              "  @keyframes spin {\n",
              "    0% {\n",
              "      border-color: transparent;\n",
              "      border-bottom-color: var(--fill-color);\n",
              "      border-left-color: var(--fill-color);\n",
              "    }\n",
              "    20% {\n",
              "      border-color: transparent;\n",
              "      border-left-color: var(--fill-color);\n",
              "      border-top-color: var(--fill-color);\n",
              "    }\n",
              "    30% {\n",
              "      border-color: transparent;\n",
              "      border-left-color: var(--fill-color);\n",
              "      border-top-color: var(--fill-color);\n",
              "      border-right-color: var(--fill-color);\n",
              "    }\n",
              "    40% {\n",
              "      border-color: transparent;\n",
              "      border-right-color: var(--fill-color);\n",
              "      border-top-color: var(--fill-color);\n",
              "    }\n",
              "    60% {\n",
              "      border-color: transparent;\n",
              "      border-right-color: var(--fill-color);\n",
              "    }\n",
              "    80% {\n",
              "      border-color: transparent;\n",
              "      border-right-color: var(--fill-color);\n",
              "      border-bottom-color: var(--fill-color);\n",
              "    }\n",
              "    90% {\n",
              "      border-color: transparent;\n",
              "      border-bottom-color: var(--fill-color);\n",
              "    }\n",
              "  }\n",
              "</style>\n",
              "\n",
              "  <script>\n",
              "    async function quickchart(key) {\n",
              "      const quickchartButtonEl =\n",
              "        document.querySelector('#' + key + ' button');\n",
              "      quickchartButtonEl.disabled = true;  // To prevent multiple clicks.\n",
              "      quickchartButtonEl.classList.add('colab-df-spinner');\n",
              "      try {\n",
              "        const charts = await google.colab.kernel.invokeFunction(\n",
              "            'suggestCharts', [key], {});\n",
              "      } catch (error) {\n",
              "        console.error('Error during call to suggestCharts:', error);\n",
              "      }\n",
              "      quickchartButtonEl.classList.remove('colab-df-spinner');\n",
              "      quickchartButtonEl.classList.add('colab-df-quickchart-complete');\n",
              "    }\n",
              "    (() => {\n",
              "      let quickchartButtonEl =\n",
              "        document.querySelector('#df-9094aae0-19bd-4d5b-8ca5-b7cfe90782ad button');\n",
              "      quickchartButtonEl.style.display =\n",
              "        google.colab.kernel.accessAllowed ? 'block' : 'none';\n",
              "    })();\n",
              "  </script>\n",
              "</div>\n",
              "    </div>\n",
              "  </div>\n"
            ]
          },
          "metadata": {},
          "execution_count": 61
        }
      ]
    },
    {
      "cell_type": "code",
      "source": [
        "# Iterate over each classifier and perform cross-validation\n",
        "for name, clf in classifiers_reduced.items():\n",
        "    # predict the test data.\n",
        "    predictions_low_dim = clf.predict(X_test_low_dim)\n",
        "\n",
        "    # Calculate accuracy for each model\n",
        "    accuracy_low_dim = accuracy_score(y_test, predictions_low_dim)\n",
        "\n",
        "    # Compare the performance\n",
        "    print(f\"The accuracy of {name} on the test set after reducing attributes is: {accuracy_low_dim:%}\")\n",
        "\n",
        "    # Calculate cross-validation scores using only the top 5 attributes\n",
        "    scores = cross_val_score(clf, X_train_low_dim, y_train, cv=kf, scoring='accuracy')\n",
        "\n",
        "    # Calculate and print the mean classification error rate\n",
        "    error_rate = 1 - scores.mean()\n",
        "    print(f\"Classification Error Rate for {name}: {error_rate:f}\")\n",
        "\n",
        "# Test SVM\n",
        "model_svm = SVC(kernel='poly', C=0.1, gamma=1)\n",
        "model_svm.fit(X_train_low_dim.iloc[:10000], y_train.iloc[:10000].values.ravel())\n",
        "# Use X_test_low_dim\n",
        "svm_pred_low_dim = model_svm.predict(X_test_low_dim)\n",
        "svm_accuracy_low_dim = accuracy_score(y_test, svm_pred_low_dim)\n",
        "print(f\"The accuracy of SVM on the test set after reducing attributes is: {svm_accuracy_low_dim:%}\")\n",
        "# Perform cross-validation\n",
        "scores = cross_val_score(model_svm, X_train_low_dim, y_train, cv=kf, scoring='accuracy')\n",
        "error_rate_svm = 1 - scores.mean()\n",
        "print(f\"Classification Error Rate for SVM: {error_rate_svm:f}\")"
      ],
      "metadata": {
        "id": "P3GR8wyZm8qK",
        "colab": {
          "base_uri": "https://localhost:8080/"
        },
        "outputId": "9227898e-cd9c-43c4-c12e-48d3ce784efe"
      },
      "execution_count": null,
      "outputs": [
        {
          "output_type": "stream",
          "name": "stdout",
          "text": [
            "The accuracy of Decision Tree on the test set after reducing attributes is: 85.860488%\n",
            "Classification Error Rate for Decision Tree: 0.143322\n",
            "The accuracy of Neural Network on the test set after reducing attributes is: 88.627804%\n",
            "Classification Error Rate for Neural Network: 0.113172\n",
            "The accuracy of Random Forest on the test set after reducing attributes is: 88.971672%\n",
            "Classification Error Rate for Random Forest: 0.107502\n",
            "The accuracy of K-NN with k=1 on the test set after reducing attributes is: 86.949402%\n",
            "Classification Error Rate for K-NN with k=1: 0.132494\n",
            "The accuracy of K-NN with k=3 on the test set after reducing attributes is: 88.161127%\n",
            "Classification Error Rate for K-NN with k=3: 0.115403\n",
            "The accuracy of Gaussian Naive Bayes on the test set after reducing attributes is: 47.543802%\n",
            "Classification Error Rate for Gaussian Naive Bayes: 0.519149\n",
            "The accuracy of AdaBoost on the test set after reducing attributes is: 71.229736%\n",
            "Classification Error Rate for AdaBoost: 0.282243\n",
            "The accuracy of SVM on the test set after reducing attributes is: 73.161945%\n",
            "Classification Error Rate for SVM: 0.266892\n"
          ]
        }
      ]
    },
    {
      "cell_type": "markdown",
      "metadata": {
        "id": "1afY3BZQu8LA"
      },
      "source": [
        "## 4.4 Display the confusion matrix of the test results"
      ]
    },
    {
      "cell_type": "markdown",
      "source": [
        "## Show confusion matrix for Random Forest tree and K-NN"
      ],
      "metadata": {
        "id": "R1y1Vp47GT73"
      }
    },
    {
      "cell_type": "code",
      "source": [
        "from sklearn.metrics import ConfusionMatrixDisplay\n",
        "\n",
        "classifiers_selected = {\n",
        "    'Random Forest': RandomForestClassifier(n_estimators=100, random_state=42),\n",
        "    'K-NN with k=1': KNeighborsClassifier(n_neighbors=1),\n",
        "    'K-NN with k=3': KNeighborsClassifier(n_neighbors=3),\n",
        "}\n",
        "for name, clf in classifiers_selected.items():\n",
        "    # fitting the model to the training data.\n",
        "    clf.fit(X_train, y_train)\n",
        "\n",
        "    # predict the test data.\n",
        "    predictions = clf.predict(X_test)\n",
        "    ConfusionMatrixDisplay.from_predictions(y_test, predictions)\n",
        "\n"
      ],
      "metadata": {
        "colab": {
          "base_uri": "https://localhost:8080/",
          "height": 1000
        },
        "id": "Di1Mkdg1JK8j",
        "outputId": "8b37404b-fb16-4324-d4e5-f9218f693dd2"
      },
      "execution_count": null,
      "outputs": [
        {
          "output_type": "display_data",
          "data": {
            "text/plain": [
              "<Figure size 640x480 with 2 Axes>"
            ],
            "image/png": "[encoded data removed]"
          },
          "metadata": {}
        },
        {
          "output_type": "display_data",
          "data": {
            "text/plain": [
              "<Figure size 640x480 with 2 Axes>"
            ],
            "image/png": "[encoded data removed]"
          },
          "metadata": {}
        },
        {
          "output_type": "display_data",
          "data": {
            "text/plain": [
              "<Figure size 640x480 with 2 Axes>"
            ],
            "image/png": "[encoded data removed]"
          },
          "metadata": {}
        }
      ]
    },
    {
      "cell_type": "markdown",
      "source": [
        "## Show confusion matrix for SVM"
      ],
      "metadata": {
        "id": "XrkblvzCtraD"
      }
    },
    {
      "cell_type": "code",
      "source": [
        "from sklearn.metrics import ConfusionMatrixDisplay\n",
        "model_svm = SVC(kernel='poly', C=0.1, gamma=1)\n",
        "model_svm.fit(X_train.iloc[:10000], y_train.iloc[:10000].values.ravel())\n",
        "svm_pred = model_svm.predict(X_test)\n",
        "ConfusionMatrixDisplay.from_predictions(y_test, svm_pred)\n",
        "# False Positive: 11 (not important)"
      ],
      "metadata": {
        "colab": {
          "base_uri": "https://localhost:8080/",
          "height": 466
        },
        "id": "DD_mIW0347jf",
        "outputId": "1ccb8ca3-fa97-42f2-9cfb-9bad562b1bad"
      },
      "execution_count": null,
      "outputs": [
        {
          "output_type": "execute_result",
          "data": {
            "text/plain": [
              "<sklearn.metrics._plot.confusion_matrix.ConfusionMatrixDisplay at 0x7ac97b728850>"
            ]
          },
          "metadata": {},
          "execution_count": 64
        },
        {
          "output_type": "display_data",
          "data": {
            "text/plain": [
              "<Figure size 640x480 with 2 Axes>"
            ],
            "image/png": "[encoded data removed]"
          },
          "metadata": {}
        }
      ]
    },
    {
      "cell_type": "markdown",
      "metadata": {
        "id": "Bev5vcKHu8LA"
      },
      "source": [
        "# 5.  Hyperparameter Tuning:"
      ]
    },
    {
      "cell_type": "markdown",
      "metadata": {
        "id": "Ne8JGHK8u8LB"
      },
      "source": [
        "## 5.1.1 Use GridSearchCV to find the best value of kernel, gamma, and C for SVM\n",
        "- Split the dataset into 60% training, 20% validation, and 20% testing"
      ]
    },
    {
      "cell_type": "code",
      "execution_count": null,
      "metadata": {
        "id": "0rJ-Q1e-u8LB",
        "colab": {
          "base_uri": "https://localhost:8080/"
        },
        "outputId": "b79b179d-d68c-4b0d-afdf-f66e80c50a95"
      },
      "outputs": [
        {
          "output_type": "stream",
          "name": "stdout",
          "text": [
            "(36641, 92) (36641,) (12214, 92) (12214,) (12214, 92) (12214,)\n"
          ]
        }
      ],
      "source": [
        "# Split the preprocessed feature data (X_prepared) and the target labels (y) into two sets:\n",
        "# a training set and a combined validation/test set. The training set will contain 60% of the data,\n",
        "# and the combined validation/test set will contain the remaining 40%. The 'random_state' ensures\n",
        "# that the split is reproducible, so you get the same split each time you run the code.\n",
        "X_train, X_validation_test, y_train, y_validation_test = train_test_split(X_prepared, y, test_size=0.4, random_state=42)\n",
        "\n",
        "# Further split the combined validation/test set equally into validation and test sets.\n",
        "# This means the validation and test sets will each contain 20% of the original data.\n",
        "# Again, 'random_state' is set to ensure reproducibility.\n",
        "X_validation, X_test, y_validation, y_test = train_test_split(X_validation_test, y_validation_test, test_size=0.5, random_state=42)\n",
        "\n",
        "print(X_train.shape, y_train.shape, X_validation.shape, y_validation.shape, X_test.shape, y_test.shape)"
      ]
    },
    {
      "cell_type": "markdown",
      "metadata": {
        "id": "QNP_aUvVu8LB"
      },
      "source": [
        "## 5.1.2 Pass the hyperparameters for the GridSearchCV to find the best ones"
      ]
    },
    {
      "cell_type": "code",
      "execution_count": null,
      "metadata": {
        "id": "68KftAlQu8LB",
        "colab": {
          "base_uri": "https://localhost:8080/"
        },
        "outputId": "370580d6-3c59-419a-8f75-6bddcb963acd"
      },
      "outputs": [
        {
          "output_type": "execute_result",
          "data": {
            "text/plain": [
              "0.9986900278369084"
            ]
          },
          "metadata": {},
          "execution_count": 66
        }
      ],
      "source": [
        "# Import function\n",
        "from sklearn.model_selection import GridSearchCV\n",
        "\n",
        "# Parameters are used for comparison\n",
        "svm_parameters={'kernel': ['poly'],\n",
        "                'C': [0.01, 0.1, 1, 10],\n",
        "                'gamma': [0.01, 0.1, 1, 10]\n",
        "               }\n",
        "# GridSearching this is gonna take forever, reduced the kernels\n",
        "\n",
        "# Create Support Vector Classification for all models to be tested\n",
        "svm = SVC()\n",
        "svm_gs = GridSearchCV(estimator=svm, param_grid=svm_parameters)\n",
        "svm_gs.fit(X_train.iloc[:10000], y_train.iloc[:10000].values.ravel())\n",
        "\n",
        "# Select best estimator based on score and display score\n",
        "svm_winner=svm_gs.best_estimator_\n",
        "svm_winner.score(X_validation, y_validation)\n"
      ]
    },
    {
      "cell_type": "code",
      "source": [
        "# Check the svm winner parameters using svm_winner\n",
        "svm_winner"
      ],
      "metadata": {
        "colab": {
          "base_uri": "https://localhost:8080/",
          "height": 74
        },
        "id": "VwlQtpk8mPj-",
        "outputId": "0056fbf9-8182-4610-a130-76e7b430b47c"
      },
      "execution_count": null,
      "outputs": [
        {
          "output_type": "execute_result",
          "data": {
            "text/plain": [
              "SVC(C=0.01, gamma=10, kernel='poly')"
            ],
            "text/html": [
              "<style>#sk-container-id-3 {color: black;background-color: white;}#sk-container-id-3 pre{padding: 0;}#sk-container-id-3 div.sk-toggleable {background-color: white;}#sk-container-id-3 label.sk-toggleable__label {cursor: pointer;display: block;width: 100%;margin-bottom: 0;padding: 0.3em;box-sizing: border-box;text-align: center;}#sk-container-id-3 label.sk-toggleable__label-arrow:before {content: \"▸\";float: left;margin-right: 0.25em;color: #696969;}#sk-container-id-3 label.sk-toggleable__label-arrow:hover:before {color: black;}#sk-container-id-3 div.sk-estimator:hover label.sk-toggleable__label-arrow:before {color: black;}#sk-container-id-3 div.sk-toggleable__content {max-height: 0;max-width: 0;overflow: hidden;text-align: left;background-color: #f0f8ff;}#sk-container-id-3 div.sk-toggleable__content pre {margin: 0.2em;color: black;border-radius: 0.25em;background-color: #f0f8ff;}#sk-container-id-3 input.sk-toggleable__control:checked~div.sk-toggleable__content {max-height: 200px;max-width: 100%;overflow: auto;}#sk-container-id-3 input.sk-toggleable__control:checked~label.sk-toggleable__label-arrow:before {content: \"▾\";}#sk-container-id-3 div.sk-estimator input.sk-toggleable__control:checked~label.sk-toggleable__label {background-color: #d4ebff;}#sk-container-id-3 div.sk-label input.sk-toggleable__control:checked~label.sk-toggleable__label {background-color: #d4ebff;}#sk-container-id-3 input.sk-hidden--visually {border: 0;clip: rect(1px 1px 1px 1px);clip: rect(1px, 1px, 1px, 1px);height: 1px;margin: -1px;overflow: hidden;padding: 0;position: absolute;width: 1px;}#sk-container-id-3 div.sk-estimator {font-family: monospace;background-color: #f0f8ff;border: 1px dotted black;border-radius: 0.25em;box-sizing: border-box;margin-bottom: 0.5em;}#sk-container-id-3 div.sk-estimator:hover {background-color: #d4ebff;}#sk-container-id-3 div.sk-parallel-item::after {content: \"\";width: 100%;border-bottom: 1px solid gray;flex-grow: 1;}#sk-container-id-3 div.sk-label:hover label.sk-toggleable__label {background-color: #d4ebff;}#sk-container-id-3 div.sk-serial::before {content: \"\";position: absolute;border-left: 1px solid gray;box-sizing: border-box;top: 0;bottom: 0;left: 50%;z-index: 0;}#sk-container-id-3 div.sk-serial {display: flex;flex-direction: column;align-items: center;background-color: white;padding-right: 0.2em;padding-left: 0.2em;position: relative;}#sk-container-id-3 div.sk-item {position: relative;z-index: 1;}#sk-container-id-3 div.sk-parallel {display: flex;align-items: stretch;justify-content: center;background-color: white;position: relative;}#sk-container-id-3 div.sk-item::before, #sk-container-id-3 div.sk-parallel-item::before {content: \"\";position: absolute;border-left: 1px solid gray;box-sizing: border-box;top: 0;bottom: 0;left: 50%;z-index: -1;}#sk-container-id-3 div.sk-parallel-item {display: flex;flex-direction: column;z-index: 1;position: relative;background-color: white;}#sk-container-id-3 div.sk-parallel-item:first-child::after {align-self: flex-end;width: 50%;}#sk-container-id-3 div.sk-parallel-item:last-child::after {align-self: flex-start;width: 50%;}#sk-container-id-3 div.sk-parallel-item:only-child::after {width: 0;}#sk-container-id-3 div.sk-dashed-wrapped {border: 1px dashed gray;margin: 0 0.4em 0.5em 0.4em;box-sizing: border-box;padding-bottom: 0.4em;background-color: white;}#sk-container-id-3 div.sk-label label {font-family: monospace;font-weight: bold;display: inline-block;line-height: 1.2em;}#sk-container-id-3 div.sk-label-container {text-align: center;}#sk-container-id-3 div.sk-container {/* jupyter's `normalize.less` sets `[hidden] { display: none; }` but bootstrap.min.css set `[hidden] { display: none !important; }` so we also need the `!important` here to be able to override the default hidden behavior on the sphinx rendered scikit-learn.org. See: https://github.com/scikit-learn/scikit-learn/issues/21755 */display: inline-block !important;position: relative;}#sk-container-id-3 div.sk-text-repr-fallback {display: none;}</style><div id=\"sk-container-id-3\" class=\"sk-top-container\"><div class=\"sk-text-repr-fallback\"><pre>SVC(C=0.01, gamma=10, kernel=&#x27;poly&#x27;)</pre><b>In a Jupyter environment, please rerun this cell to show the HTML representation or trust the notebook. <br />On GitHub, the HTML representation is unable to render, please try loading this page with nbviewer.org.</b></div><div class=\"sk-container\" hidden><div class=\"sk-item\"><div class=\"sk-estimator sk-toggleable\"><input class=\"sk-toggleable__control sk-hidden--visually\" id=\"sk-estimator-id-19\" type=\"checkbox\" checked><label for=\"sk-estimator-id-19\" class=\"sk-toggleable__label sk-toggleable__label-arrow\">SVC</label><div class=\"sk-toggleable__content\"><pre>SVC(C=0.01, gamma=10, kernel=&#x27;poly&#x27;)</pre></div></div></div></div></div>"
            ]
          },
          "metadata": {},
          "execution_count": 67
        }
      ]
    },
    {
      "cell_type": "markdown",
      "source": [],
      "metadata": {
        "id": "3EkENsPkTzjQ"
      }
    },
    {
      "cell_type": "markdown",
      "source": [
        "## Re-evaluation for the SVM after hyperparameter tuning"
      ],
      "metadata": {
        "id": "lfGWPifFT1fk"
      }
    },
    {
      "cell_type": "code",
      "source": [
        "model_svm = SVC(kernel='poly', C=10, gamma=0.1)\n",
        "model_svm.fit(X_train.iloc[:10000], y_train.iloc[:10000].values.ravel())\n",
        "svm_pred_hyper = model_svm.predict(X_test)\n",
        "svm_accuracy = accuracy_score(y_test, svm_pred_hyper)\n",
        "print(f\"The accuracy of SVM on the test set is: {svm_accuracy:%}\") # Accuracy increased from 0.999099 to 0.999590\n",
        "\n",
        "scores = cross_val_score(model_svm, X_train, y_train, cv=kf, scoring='accuracy')\n",
        "error_rate_svm = 1 - scores.mean()\n",
        "print(f\"Classification Error Rate for SVM: {error_rate_svm:f}\") # Classification Error Rate reduced from 0.000205 to 0.000164\n",
        "\n",
        "ConfusionMatrixDisplay.from_predictions(y_test, svm_pred_hyper) # However, we got 1 FN, which is very dangerous!!!\n"
      ],
      "metadata": {
        "colab": {
          "base_uri": "https://localhost:8080/",
          "height": 501
        },
        "id": "lj9poOR7T3KQ",
        "outputId": "bfb5c5fc-295e-4349-822f-9383f33c9667"
      },
      "execution_count": null,
      "outputs": [
        {
          "output_type": "stream",
          "name": "stdout",
          "text": [
            "The accuracy of SVM on the test set is: 99.959063%\n",
            "Classification Error Rate for SVM: 0.000164\n"
          ]
        },
        {
          "output_type": "execute_result",
          "data": {
            "text/plain": [
              "<sklearn.metrics._plot.confusion_matrix.ConfusionMatrixDisplay at 0x7ac97017a1d0>"
            ]
          },
          "metadata": {},
          "execution_count": 68
        },
        {
          "output_type": "display_data",
          "data": {
            "text/plain": [
              "<Figure size 640x480 with 2 Axes>"
            ],
            "image/png": "[encoded data removed]"
          },
          "metadata": {}
        }
      ]
    },
    {
      "cell_type": "markdown",
      "source": [],
      "metadata": {
        "id": "1U8MIgcsb1aT"
      }
    },
    {
      "cell_type": "markdown",
      "source": [
        "## 5.2.1 Random Forest"
      ],
      "metadata": {
        "id": "J2y2dBMKSP9R"
      }
    },
    {
      "cell_type": "code",
      "source": [
        "rf_parameters = {\n",
        "    'n_estimators': [100, 200, 500],\n",
        "}\n",
        "\n",
        "rf = RandomForestClassifier(random_state=42)\n",
        "grid_search_rf = GridSearchCV(estimator=rf, param_grid=rf_parameters, cv=5, n_jobs=-1, verbose=2)\n",
        "grid_search_rf.fit(X_train.iloc[:10000], y_train.iloc[:10000].values.ravel())\n",
        "\n",
        "print(\"Best parameters for Random Forest:\", grid_search_rf.best_params_)\n",
        "print(\"Best score for Random Forest:\", grid_search_rf.best_score_)\n"
      ],
      "metadata": {
        "id": "8udSp3SD_7W4",
        "colab": {
          "base_uri": "https://localhost:8080/"
        },
        "outputId": "4e646147-97b3-4346-a69b-07880f9fdfd9"
      },
      "execution_count": null,
      "outputs": [
        {
          "output_type": "stream",
          "name": "stdout",
          "text": [
            "Fitting 5 folds for each of 3 candidates, totalling 15 fits\n",
            "Best parameters for Random Forest: {'n_estimators': 200}\n",
            "Best score for Random Forest: 0.9996\n"
          ]
        }
      ]
    },
    {
      "cell_type": "markdown",
      "source": [
        "## Re-evaluation for the Random Forest after hyperparameter tuning"
      ],
      "metadata": {
        "id": "bNhO0YPjTLff"
      }
    },
    {
      "cell_type": "code",
      "source": [
        "rf_hyper = RandomForestClassifier(n_estimators=200, random_state=42)\n",
        "\n",
        "# Same steps for testing accuracy\n",
        "rf_hyper.fit(X_train, y_train)\n",
        "predictions_rf_hyper = rf_hyper.predict(X_test)\n",
        "accuracy = accuracy_score(y_test, predictions_rf_hyper)\n",
        "print(f\"The Random Forset with hyperparameter tuning accuracy: {accuracy}\")\n",
        "\n",
        "ConfusionMatrixDisplay.from_predictions(y_test, predictions_rf_hyper)"
      ],
      "metadata": {
        "colab": {
          "base_uri": "https://localhost:8080/",
          "height": 484
        },
        "id": "L-NGOT0bSCO7",
        "outputId": "956fae15-8ef4-472b-b7f0-7decf64e39e2"
      },
      "execution_count": null,
      "outputs": [
        {
          "output_type": "stream",
          "name": "stdout",
          "text": [
            "The Random Forset with hyperparameter tuning accuracy: 1.0\n"
          ]
        },
        {
          "output_type": "execute_result",
          "data": {
            "text/plain": [
              "<sklearn.metrics._plot.confusion_matrix.ConfusionMatrixDisplay at 0x7ac9700635e0>"
            ]
          },
          "metadata": {},
          "execution_count": 70
        },
        {
          "output_type": "display_data",
          "data": {
            "text/plain": [
              "<Figure size 640x480 with 2 Axes>"
            ],
            "image/png": "[encoded data removed]"
          },
          "metadata": {}
        }
      ]
    },
    {
      "cell_type": "markdown",
      "source": [
        "## 5.2.2 KNN"
      ],
      "metadata": {
        "id": "-HTefTbdHJat"
      }
    },
    {
      "cell_type": "markdown",
      "source": [
        "## We have already use different k values for KNN, and found out the best k value is 1.\n",
        "- The accuracies of K=1 and K=3 are the same\n",
        "- The confusion matrixes are the same\n",
        "- The K=1 has lower classification error rate than K=3, so K=1 is better."
      ],
      "metadata": {
        "id": "KBNR_akoddoi"
      }
    },
    {
      "cell_type": "markdown",
      "source": [
        "## Three graphs for KNN"
      ],
      "metadata": {
        "id": "cbE6zvadG5yb"
      }
    },
    {
      "cell_type": "markdown",
      "source": [
        "1. Confusion Matrix already exist"
      ],
      "metadata": {
        "id": "kmrcZUzJH9ZM"
      }
    },
    {
      "cell_type": "markdown",
      "source": [
        "2. ROC Curve"
      ],
      "metadata": {
        "id": "Ak2zATcHIT2G"
      }
    },
    {
      "cell_type": "code",
      "source": [
        "from sklearn.preprocessing import LabelEncoder\n",
        "from sklearn.metrics import roc_curve, auc\n",
        "from sklearn.neighbors import KNeighborsClassifier\n",
        "import matplotlib.pyplot as plt\n",
        "\n",
        "# Encode class values as integers\n",
        "encoder = LabelEncoder()\n",
        "y_train_encoded = encoder.fit_transform(y_train)\n",
        "y_test_encoded = encoder.transform(y_test)\n",
        "\n",
        "# Now you can fit the KNN and compute the ROC curve\n",
        "knn = KNeighborsClassifier(n_neighbors=1)\n",
        "knn.fit(X_train, y_train_encoded)\n",
        "predictions = knn.predict(X_test)\n",
        "\n",
        "fpr, tpr, _ = roc_curve(y_test_encoded, predictions)\n",
        "roc_auc = auc(fpr, tpr)\n",
        "\n",
        "plt.figure()\n",
        "plt.plot(fpr, tpr, label='ROC curve (area = %0.2f)' % roc_auc)\n",
        "plt.plot([0, 1], [0, 1], 'k--')\n",
        "plt.xlim([0.0, 1.0])\n",
        "plt.ylim([0.0, 1.05])\n",
        "plt.xlabel('False Positive Rate')\n",
        "plt.ylabel('True Positive Rate')\n",
        "plt.title('ROC Curve')\n",
        "plt.legend(loc=\"lower right\")\n",
        "plt.show()\n"
      ],
      "metadata": {
        "id": "ZkSp1iQz7aV7",
        "colab": {
          "base_uri": "https://localhost:8080/",
          "height": 472
        },
        "outputId": "25c28867-e91b-45b7-9e50-f7ca08fc25a7"
      },
      "execution_count": null,
      "outputs": [
        {
          "output_type": "display_data",
          "data": {
            "text/plain": [
              "<Figure size 640x480 with 1 Axes>"
            ],
            "image/png": "[encoded data removed]"
          },
          "metadata": {}
        }
      ]
    },
    {
      "cell_type": "code",
      "source": [
        "from sklearn.model_selection import cross_val_score, KFold\n",
        "\n",
        "# Set up KFold cross-validation object with 5 folds\n",
        "kf = KFold(n_splits=5, shuffle=True, random_state=42)\n",
        "\n",
        "# Initialize error_rate list to store error rates for different values of K\n",
        "error_rate = []\n",
        "\n",
        "# Iterate over values of K from 1 to 4 for KNN\n",
        "for i in range(1, 5):\n",
        "    knn = KNeighborsClassifier(n_neighbors=i)\n",
        "\n",
        "    # Calculate cross-validation scores with 'accuracy' as the scoring metric\n",
        "    scores = cross_val_score(knn, X_train, y_train, cv=kf, scoring='accuracy')\n",
        "\n",
        "    # Calculate the mean classification error rate (the complement of accuracy)\n",
        "    mean_error = 1 - scores.mean()\n",
        "    error_rate.append(mean_error)\n",
        "    print(f\"Classification Error Rate for K={i}: {mean_error:f}\")\n",
        "\n",
        "# Plotting the error rate vs K values\n",
        "plt.figure(figsize=(10, 6))\n",
        "plt.plot(range(1, 5), error_rate, color=\"green\", linestyle=\"dashed\", marker=\"o\")\n",
        "plt.xlabel(\"K\")\n",
        "plt.ylabel(\"Error Rate\")\n",
        "plt.title(\"Error Rate vs. K\")\n",
        "plt.show()\n"
      ],
      "metadata": {
        "colab": {
          "base_uri": "https://localhost:8080/",
          "height": 633
        },
        "id": "L17y6vBZ3Lxx",
        "outputId": "9d0fcd77-08ae-487f-88d2-8c6f828afee3"
      },
      "execution_count": null,
      "outputs": [
        {
          "output_type": "stream",
          "name": "stdout",
          "text": [
            "Classification Error Rate for K=1: 0.000082\n",
            "Classification Error Rate for K=2: 0.000143\n",
            "Classification Error Rate for K=3: 0.000164\n",
            "Classification Error Rate for K=4: 0.000123\n"
          ]
        },
        {
          "output_type": "display_data",
          "data": {
            "text/plain": [
              "<Figure size 1000x600 with 1 Axes>"
            ],
            "image/png": "[encoded data removed]"
          },
          "metadata": {}
        }
      ]
    }
  ],
  "metadata": {
    "kernelspec": {
      "display_name": "Python 3 (ipykernel)",
      "language": "python",
      "name": "python3"
    },
    "language_info": {
      "codemirror_mode": {
        "name": "ipython",
        "version": 3
      },
      "file_extension": ".py",
      "mimetype": "text/x-python",
      "name": "python",
      "nbconvert_exporter": "python",
      "pygments_lexer": "ipython3",
      "version": "3.11.5"
    },
    "colab": {
      "provenance": []
    }
  },
  "nbformat": 4,
  "nbformat_minor": 0
}